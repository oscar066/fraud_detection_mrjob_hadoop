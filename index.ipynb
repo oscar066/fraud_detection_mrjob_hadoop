{
 "cells": [
  {
   "cell_type": "markdown",
   "metadata": {},
   "source": [
    "# Credit Card Fraud Detection"
   ]
  },
  {
   "cell_type": "code",
   "execution_count": 2,
   "metadata": {},
   "outputs": [],
   "source": [
    "# manipulation data\n",
    "\n",
    "import pandas as pd\n",
    "import numpy as np\n",
    "import math\n",
    "import random\n",
    "import re\n",
    "import json\n",
    "from sklearn import preprocessing\n",
    "from sklearn.preprocessing import OneHotEncoder, QuantileTransformer, MultiLabelBinarizer,StandardScaler,LabelEncoder\n",
    "import matplotlib.pyplot as plt \n",
    "import seaborn as sns \n",
    "import matplotlib as mpl\n",
    "import scipy as sp\n",
    "import itertools \n",
    "import warnings \n",
    "warnings.filterwarnings('ignore')\n",
    "\n",
    "# machine learning \n",
    "\n",
    "from sklearn.linear_model import LogisticRegression\n",
    "from sklearn.tree import DecisionTreeClassifier\n",
    "from sklearn.ensemble import RandomForestClassifier\n",
    "\n"
   ]
  },
  {
   "cell_type": "code",
   "execution_count": 3,
   "metadata": {},
   "outputs": [
    {
     "data": {
      "text/html": [
       "<div>\n",
       "<style scoped>\n",
       "    .dataframe tbody tr th:only-of-type {\n",
       "        vertical-align: middle;\n",
       "    }\n",
       "\n",
       "    .dataframe tbody tr th {\n",
       "        vertical-align: top;\n",
       "    }\n",
       "\n",
       "    .dataframe thead th {\n",
       "        text-align: right;\n",
       "    }\n",
       "</style>\n",
       "<table border=\"1\" class=\"dataframe\">\n",
       "  <thead>\n",
       "    <tr style=\"text-align: right;\">\n",
       "      <th></th>\n",
       "      <th>Unnamed: 0</th>\n",
       "      <th>trans_date_trans_time</th>\n",
       "      <th>cc_num</th>\n",
       "      <th>merchant</th>\n",
       "      <th>category</th>\n",
       "      <th>amt</th>\n",
       "      <th>first</th>\n",
       "      <th>last</th>\n",
       "      <th>gender</th>\n",
       "      <th>street</th>\n",
       "      <th>...</th>\n",
       "      <th>lat</th>\n",
       "      <th>long</th>\n",
       "      <th>city_pop</th>\n",
       "      <th>job</th>\n",
       "      <th>dob</th>\n",
       "      <th>trans_num</th>\n",
       "      <th>unix_time</th>\n",
       "      <th>merch_lat</th>\n",
       "      <th>merch_long</th>\n",
       "      <th>is_fraud</th>\n",
       "    </tr>\n",
       "  </thead>\n",
       "  <tbody>\n",
       "    <tr>\n",
       "      <th>0</th>\n",
       "      <td>0</td>\n",
       "      <td>2019-01-01 00:00:18</td>\n",
       "      <td>2703186189652095</td>\n",
       "      <td>fraud_Rippin, Kub and Mann</td>\n",
       "      <td>misc_net</td>\n",
       "      <td>4.97</td>\n",
       "      <td>Jennifer</td>\n",
       "      <td>Banks</td>\n",
       "      <td>F</td>\n",
       "      <td>561 Perry Cove</td>\n",
       "      <td>...</td>\n",
       "      <td>36.0788</td>\n",
       "      <td>-81.1781</td>\n",
       "      <td>3495</td>\n",
       "      <td>Psychologist, counselling</td>\n",
       "      <td>1988-03-09</td>\n",
       "      <td>0b242abb623afc578575680df30655b9</td>\n",
       "      <td>1325376018</td>\n",
       "      <td>36.011293</td>\n",
       "      <td>-82.048315</td>\n",
       "      <td>0</td>\n",
       "    </tr>\n",
       "    <tr>\n",
       "      <th>1</th>\n",
       "      <td>1</td>\n",
       "      <td>2019-01-01 00:00:44</td>\n",
       "      <td>630423337322</td>\n",
       "      <td>fraud_Heller, Gutmann and Zieme</td>\n",
       "      <td>grocery_pos</td>\n",
       "      <td>107.23</td>\n",
       "      <td>Stephanie</td>\n",
       "      <td>Gill</td>\n",
       "      <td>F</td>\n",
       "      <td>43039 Riley Greens Suite 393</td>\n",
       "      <td>...</td>\n",
       "      <td>48.8878</td>\n",
       "      <td>-118.2105</td>\n",
       "      <td>149</td>\n",
       "      <td>Special educational needs teacher</td>\n",
       "      <td>1978-06-21</td>\n",
       "      <td>1f76529f8574734946361c461b024d99</td>\n",
       "      <td>1325376044</td>\n",
       "      <td>49.159047</td>\n",
       "      <td>-118.186462</td>\n",
       "      <td>0</td>\n",
       "    </tr>\n",
       "    <tr>\n",
       "      <th>2</th>\n",
       "      <td>2</td>\n",
       "      <td>2019-01-01 00:00:51</td>\n",
       "      <td>38859492057661</td>\n",
       "      <td>fraud_Lind-Buckridge</td>\n",
       "      <td>entertainment</td>\n",
       "      <td>220.11</td>\n",
       "      <td>Edward</td>\n",
       "      <td>Sanchez</td>\n",
       "      <td>M</td>\n",
       "      <td>594 White Dale Suite 530</td>\n",
       "      <td>...</td>\n",
       "      <td>42.1808</td>\n",
       "      <td>-112.2620</td>\n",
       "      <td>4154</td>\n",
       "      <td>Nature conservation officer</td>\n",
       "      <td>1962-01-19</td>\n",
       "      <td>a1a22d70485983eac12b5b88dad1cf95</td>\n",
       "      <td>1325376051</td>\n",
       "      <td>43.150704</td>\n",
       "      <td>-112.154481</td>\n",
       "      <td>0</td>\n",
       "    </tr>\n",
       "    <tr>\n",
       "      <th>3</th>\n",
       "      <td>3</td>\n",
       "      <td>2019-01-01 00:01:16</td>\n",
       "      <td>3534093764340240</td>\n",
       "      <td>fraud_Kutch, Hermiston and Farrell</td>\n",
       "      <td>gas_transport</td>\n",
       "      <td>45.00</td>\n",
       "      <td>Jeremy</td>\n",
       "      <td>White</td>\n",
       "      <td>M</td>\n",
       "      <td>9443 Cynthia Court Apt. 038</td>\n",
       "      <td>...</td>\n",
       "      <td>46.2306</td>\n",
       "      <td>-112.1138</td>\n",
       "      <td>1939</td>\n",
       "      <td>Patent attorney</td>\n",
       "      <td>1967-01-12</td>\n",
       "      <td>6b849c168bdad6f867558c3793159a81</td>\n",
       "      <td>1325376076</td>\n",
       "      <td>47.034331</td>\n",
       "      <td>-112.561071</td>\n",
       "      <td>0</td>\n",
       "    </tr>\n",
       "    <tr>\n",
       "      <th>4</th>\n",
       "      <td>4</td>\n",
       "      <td>2019-01-01 00:03:06</td>\n",
       "      <td>375534208663984</td>\n",
       "      <td>fraud_Keeling-Crist</td>\n",
       "      <td>misc_pos</td>\n",
       "      <td>41.96</td>\n",
       "      <td>Tyler</td>\n",
       "      <td>Garcia</td>\n",
       "      <td>M</td>\n",
       "      <td>408 Bradley Rest</td>\n",
       "      <td>...</td>\n",
       "      <td>38.4207</td>\n",
       "      <td>-79.4629</td>\n",
       "      <td>99</td>\n",
       "      <td>Dance movement psychotherapist</td>\n",
       "      <td>1986-03-28</td>\n",
       "      <td>a41d7549acf90789359a9aa5346dcb46</td>\n",
       "      <td>1325376186</td>\n",
       "      <td>38.674999</td>\n",
       "      <td>-78.632459</td>\n",
       "      <td>0</td>\n",
       "    </tr>\n",
       "  </tbody>\n",
       "</table>\n",
       "<p>5 rows × 23 columns</p>\n",
       "</div>"
      ],
      "text/plain": [
       "   Unnamed: 0 trans_date_trans_time            cc_num  \\\n",
       "0           0   2019-01-01 00:00:18  2703186189652095   \n",
       "1           1   2019-01-01 00:00:44      630423337322   \n",
       "2           2   2019-01-01 00:00:51    38859492057661   \n",
       "3           3   2019-01-01 00:01:16  3534093764340240   \n",
       "4           4   2019-01-01 00:03:06   375534208663984   \n",
       "\n",
       "                             merchant       category     amt      first  \\\n",
       "0          fraud_Rippin, Kub and Mann       misc_net    4.97   Jennifer   \n",
       "1     fraud_Heller, Gutmann and Zieme    grocery_pos  107.23  Stephanie   \n",
       "2                fraud_Lind-Buckridge  entertainment  220.11     Edward   \n",
       "3  fraud_Kutch, Hermiston and Farrell  gas_transport   45.00     Jeremy   \n",
       "4                 fraud_Keeling-Crist       misc_pos   41.96      Tyler   \n",
       "\n",
       "      last gender                        street  ...      lat      long  \\\n",
       "0    Banks      F                561 Perry Cove  ...  36.0788  -81.1781   \n",
       "1     Gill      F  43039 Riley Greens Suite 393  ...  48.8878 -118.2105   \n",
       "2  Sanchez      M      594 White Dale Suite 530  ...  42.1808 -112.2620   \n",
       "3    White      M   9443 Cynthia Court Apt. 038  ...  46.2306 -112.1138   \n",
       "4   Garcia      M              408 Bradley Rest  ...  38.4207  -79.4629   \n",
       "\n",
       "   city_pop                                job         dob  \\\n",
       "0      3495          Psychologist, counselling  1988-03-09   \n",
       "1       149  Special educational needs teacher  1978-06-21   \n",
       "2      4154        Nature conservation officer  1962-01-19   \n",
       "3      1939                    Patent attorney  1967-01-12   \n",
       "4        99     Dance movement psychotherapist  1986-03-28   \n",
       "\n",
       "                          trans_num   unix_time  merch_lat  merch_long  \\\n",
       "0  0b242abb623afc578575680df30655b9  1325376018  36.011293  -82.048315   \n",
       "1  1f76529f8574734946361c461b024d99  1325376044  49.159047 -118.186462   \n",
       "2  a1a22d70485983eac12b5b88dad1cf95  1325376051  43.150704 -112.154481   \n",
       "3  6b849c168bdad6f867558c3793159a81  1325376076  47.034331 -112.561071   \n",
       "4  a41d7549acf90789359a9aa5346dcb46  1325376186  38.674999  -78.632459   \n",
       "\n",
       "   is_fraud  \n",
       "0         0  \n",
       "1         0  \n",
       "2         0  \n",
       "3         0  \n",
       "4         0  \n",
       "\n",
       "[5 rows x 23 columns]"
      ]
     },
     "execution_count": 3,
     "metadata": {},
     "output_type": "execute_result"
    }
   ],
   "source": [
    "# Loading the data\n",
    "main_df = pd.read_csv(\"archive/fraudTrain.csv\")\n",
    "test_df = pd.read_csv(\"archive/fraudTest.csv\")\n",
    "main_df.head()"
   ]
  },
  {
   "cell_type": "code",
   "execution_count": 4,
   "metadata": {},
   "outputs": [
    {
     "data": {
      "text/html": [
       "<div>\n",
       "<style scoped>\n",
       "    .dataframe tbody tr th:only-of-type {\n",
       "        vertical-align: middle;\n",
       "    }\n",
       "\n",
       "    .dataframe tbody tr th {\n",
       "        vertical-align: top;\n",
       "    }\n",
       "\n",
       "    .dataframe thead th {\n",
       "        text-align: right;\n",
       "    }\n",
       "</style>\n",
       "<table border=\"1\" class=\"dataframe\">\n",
       "  <thead>\n",
       "    <tr style=\"text-align: right;\">\n",
       "      <th></th>\n",
       "      <th>trans_date_trans_time</th>\n",
       "      <th>cc_num</th>\n",
       "      <th>merchant</th>\n",
       "      <th>category</th>\n",
       "      <th>amt</th>\n",
       "      <th>first</th>\n",
       "      <th>last</th>\n",
       "      <th>gender</th>\n",
       "      <th>street</th>\n",
       "      <th>city</th>\n",
       "      <th>...</th>\n",
       "      <th>lat</th>\n",
       "      <th>long</th>\n",
       "      <th>city_pop</th>\n",
       "      <th>job</th>\n",
       "      <th>dob</th>\n",
       "      <th>trans_num</th>\n",
       "      <th>unix_time</th>\n",
       "      <th>merch_lat</th>\n",
       "      <th>merch_long</th>\n",
       "      <th>is_fraud</th>\n",
       "    </tr>\n",
       "  </thead>\n",
       "  <tbody>\n",
       "    <tr>\n",
       "      <th>0</th>\n",
       "      <td>2019-01-01 00:00:18</td>\n",
       "      <td>2703186189652095</td>\n",
       "      <td>fraud_Rippin, Kub and Mann</td>\n",
       "      <td>misc_net</td>\n",
       "      <td>4.97</td>\n",
       "      <td>Jennifer</td>\n",
       "      <td>Banks</td>\n",
       "      <td>F</td>\n",
       "      <td>561 Perry Cove</td>\n",
       "      <td>Moravian Falls</td>\n",
       "      <td>...</td>\n",
       "      <td>36.0788</td>\n",
       "      <td>-81.1781</td>\n",
       "      <td>3495</td>\n",
       "      <td>Psychologist, counselling</td>\n",
       "      <td>1988-03-09</td>\n",
       "      <td>0b242abb623afc578575680df30655b9</td>\n",
       "      <td>1325376018</td>\n",
       "      <td>36.011293</td>\n",
       "      <td>-82.048315</td>\n",
       "      <td>0</td>\n",
       "    </tr>\n",
       "    <tr>\n",
       "      <th>1</th>\n",
       "      <td>2019-01-01 00:00:44</td>\n",
       "      <td>630423337322</td>\n",
       "      <td>fraud_Heller, Gutmann and Zieme</td>\n",
       "      <td>grocery_pos</td>\n",
       "      <td>107.23</td>\n",
       "      <td>Stephanie</td>\n",
       "      <td>Gill</td>\n",
       "      <td>F</td>\n",
       "      <td>43039 Riley Greens Suite 393</td>\n",
       "      <td>Orient</td>\n",
       "      <td>...</td>\n",
       "      <td>48.8878</td>\n",
       "      <td>-118.2105</td>\n",
       "      <td>149</td>\n",
       "      <td>Special educational needs teacher</td>\n",
       "      <td>1978-06-21</td>\n",
       "      <td>1f76529f8574734946361c461b024d99</td>\n",
       "      <td>1325376044</td>\n",
       "      <td>49.159047</td>\n",
       "      <td>-118.186462</td>\n",
       "      <td>0</td>\n",
       "    </tr>\n",
       "    <tr>\n",
       "      <th>2</th>\n",
       "      <td>2019-01-01 00:00:51</td>\n",
       "      <td>38859492057661</td>\n",
       "      <td>fraud_Lind-Buckridge</td>\n",
       "      <td>entertainment</td>\n",
       "      <td>220.11</td>\n",
       "      <td>Edward</td>\n",
       "      <td>Sanchez</td>\n",
       "      <td>M</td>\n",
       "      <td>594 White Dale Suite 530</td>\n",
       "      <td>Malad City</td>\n",
       "      <td>...</td>\n",
       "      <td>42.1808</td>\n",
       "      <td>-112.2620</td>\n",
       "      <td>4154</td>\n",
       "      <td>Nature conservation officer</td>\n",
       "      <td>1962-01-19</td>\n",
       "      <td>a1a22d70485983eac12b5b88dad1cf95</td>\n",
       "      <td>1325376051</td>\n",
       "      <td>43.150704</td>\n",
       "      <td>-112.154481</td>\n",
       "      <td>0</td>\n",
       "    </tr>\n",
       "    <tr>\n",
       "      <th>3</th>\n",
       "      <td>2019-01-01 00:01:16</td>\n",
       "      <td>3534093764340240</td>\n",
       "      <td>fraud_Kutch, Hermiston and Farrell</td>\n",
       "      <td>gas_transport</td>\n",
       "      <td>45.00</td>\n",
       "      <td>Jeremy</td>\n",
       "      <td>White</td>\n",
       "      <td>M</td>\n",
       "      <td>9443 Cynthia Court Apt. 038</td>\n",
       "      <td>Boulder</td>\n",
       "      <td>...</td>\n",
       "      <td>46.2306</td>\n",
       "      <td>-112.1138</td>\n",
       "      <td>1939</td>\n",
       "      <td>Patent attorney</td>\n",
       "      <td>1967-01-12</td>\n",
       "      <td>6b849c168bdad6f867558c3793159a81</td>\n",
       "      <td>1325376076</td>\n",
       "      <td>47.034331</td>\n",
       "      <td>-112.561071</td>\n",
       "      <td>0</td>\n",
       "    </tr>\n",
       "    <tr>\n",
       "      <th>4</th>\n",
       "      <td>2019-01-01 00:03:06</td>\n",
       "      <td>375534208663984</td>\n",
       "      <td>fraud_Keeling-Crist</td>\n",
       "      <td>misc_pos</td>\n",
       "      <td>41.96</td>\n",
       "      <td>Tyler</td>\n",
       "      <td>Garcia</td>\n",
       "      <td>M</td>\n",
       "      <td>408 Bradley Rest</td>\n",
       "      <td>Doe Hill</td>\n",
       "      <td>...</td>\n",
       "      <td>38.4207</td>\n",
       "      <td>-79.4629</td>\n",
       "      <td>99</td>\n",
       "      <td>Dance movement psychotherapist</td>\n",
       "      <td>1986-03-28</td>\n",
       "      <td>a41d7549acf90789359a9aa5346dcb46</td>\n",
       "      <td>1325376186</td>\n",
       "      <td>38.674999</td>\n",
       "      <td>-78.632459</td>\n",
       "      <td>0</td>\n",
       "    </tr>\n",
       "  </tbody>\n",
       "</table>\n",
       "<p>5 rows × 22 columns</p>\n",
       "</div>"
      ],
      "text/plain": [
       "  trans_date_trans_time            cc_num                            merchant  \\\n",
       "0   2019-01-01 00:00:18  2703186189652095          fraud_Rippin, Kub and Mann   \n",
       "1   2019-01-01 00:00:44      630423337322     fraud_Heller, Gutmann and Zieme   \n",
       "2   2019-01-01 00:00:51    38859492057661                fraud_Lind-Buckridge   \n",
       "3   2019-01-01 00:01:16  3534093764340240  fraud_Kutch, Hermiston and Farrell   \n",
       "4   2019-01-01 00:03:06   375534208663984                 fraud_Keeling-Crist   \n",
       "\n",
       "        category     amt      first     last gender  \\\n",
       "0       misc_net    4.97   Jennifer    Banks      F   \n",
       "1    grocery_pos  107.23  Stephanie     Gill      F   \n",
       "2  entertainment  220.11     Edward  Sanchez      M   \n",
       "3  gas_transport   45.00     Jeremy    White      M   \n",
       "4       misc_pos   41.96      Tyler   Garcia      M   \n",
       "\n",
       "                         street            city  ...      lat      long  \\\n",
       "0                561 Perry Cove  Moravian Falls  ...  36.0788  -81.1781   \n",
       "1  43039 Riley Greens Suite 393          Orient  ...  48.8878 -118.2105   \n",
       "2      594 White Dale Suite 530      Malad City  ...  42.1808 -112.2620   \n",
       "3   9443 Cynthia Court Apt. 038         Boulder  ...  46.2306 -112.1138   \n",
       "4              408 Bradley Rest        Doe Hill  ...  38.4207  -79.4629   \n",
       "\n",
       "   city_pop                                job         dob  \\\n",
       "0      3495          Psychologist, counselling  1988-03-09   \n",
       "1       149  Special educational needs teacher  1978-06-21   \n",
       "2      4154        Nature conservation officer  1962-01-19   \n",
       "3      1939                    Patent attorney  1967-01-12   \n",
       "4        99     Dance movement psychotherapist  1986-03-28   \n",
       "\n",
       "                          trans_num   unix_time  merch_lat  merch_long  \\\n",
       "0  0b242abb623afc578575680df30655b9  1325376018  36.011293  -82.048315   \n",
       "1  1f76529f8574734946361c461b024d99  1325376044  49.159047 -118.186462   \n",
       "2  a1a22d70485983eac12b5b88dad1cf95  1325376051  43.150704 -112.154481   \n",
       "3  6b849c168bdad6f867558c3793159a81  1325376076  47.034331 -112.561071   \n",
       "4  a41d7549acf90789359a9aa5346dcb46  1325376186  38.674999  -78.632459   \n",
       "\n",
       "   is_fraud  \n",
       "0         0  \n",
       "1         0  \n",
       "2         0  \n",
       "3         0  \n",
       "4         0  \n",
       "\n",
       "[5 rows x 22 columns]"
      ]
     },
     "execution_count": 4,
     "metadata": {},
     "output_type": "execute_result"
    }
   ],
   "source": [
    "main_df.drop(\"Unnamed: 0\",axis=1,inplace=True)\n",
    "test_df.drop(\"Unnamed: 0\",axis=1,inplace=True)\n",
    "main_df.head()"
   ]
  },
  {
   "cell_type": "code",
   "execution_count": 5,
   "metadata": {},
   "outputs": [
    {
     "data": {
      "text/html": [
       "<div>\n",
       "<style scoped>\n",
       "    .dataframe tbody tr th:only-of-type {\n",
       "        vertical-align: middle;\n",
       "    }\n",
       "\n",
       "    .dataframe tbody tr th {\n",
       "        vertical-align: top;\n",
       "    }\n",
       "\n",
       "    .dataframe thead th {\n",
       "        text-align: right;\n",
       "    }\n",
       "</style>\n",
       "<table border=\"1\" class=\"dataframe\">\n",
       "  <thead>\n",
       "    <tr style=\"text-align: right;\">\n",
       "      <th></th>\n",
       "      <th>trans_date_trans_time</th>\n",
       "      <th>cc_num</th>\n",
       "      <th>merchant</th>\n",
       "      <th>category</th>\n",
       "      <th>amt</th>\n",
       "      <th>first</th>\n",
       "      <th>last</th>\n",
       "      <th>gender</th>\n",
       "      <th>street</th>\n",
       "      <th>city</th>\n",
       "      <th>...</th>\n",
       "      <th>lat</th>\n",
       "      <th>long</th>\n",
       "      <th>city_pop</th>\n",
       "      <th>job</th>\n",
       "      <th>dob</th>\n",
       "      <th>trans_num</th>\n",
       "      <th>unix_time</th>\n",
       "      <th>merch_lat</th>\n",
       "      <th>merch_long</th>\n",
       "      <th>is_fraud</th>\n",
       "    </tr>\n",
       "  </thead>\n",
       "  <tbody>\n",
       "    <tr>\n",
       "      <th>509014</th>\n",
       "      <td>2019-08-09 02:35:06</td>\n",
       "      <td>571365235126</td>\n",
       "      <td>fraud_Sporer Inc</td>\n",
       "      <td>gas_transport</td>\n",
       "      <td>43.91</td>\n",
       "      <td>Barbara</td>\n",
       "      <td>Taylor</td>\n",
       "      <td>F</td>\n",
       "      <td>0069 Robin Brooks Apt. 695</td>\n",
       "      <td>Elberta</td>\n",
       "      <td>...</td>\n",
       "      <td>44.5995</td>\n",
       "      <td>-86.2141</td>\n",
       "      <td>372</td>\n",
       "      <td>Exhibitions officer, museum/gallery</td>\n",
       "      <td>1995-07-12</td>\n",
       "      <td>eb2dd93988cfc8d25cc3888c74aa7cad</td>\n",
       "      <td>1344479706</td>\n",
       "      <td>44.189702</td>\n",
       "      <td>-86.757037</td>\n",
       "      <td>0</td>\n",
       "    </tr>\n",
       "    <tr>\n",
       "      <th>1011456</th>\n",
       "      <td>2020-02-21 02:03:21</td>\n",
       "      <td>2383461948823908</td>\n",
       "      <td>fraud_Goldner, Kovacek and Abbott</td>\n",
       "      <td>grocery_pos</td>\n",
       "      <td>106.68</td>\n",
       "      <td>Patrick</td>\n",
       "      <td>Vaughan</td>\n",
       "      <td>M</td>\n",
       "      <td>651 Miller Common</td>\n",
       "      <td>Parsonsfield</td>\n",
       "      <td>...</td>\n",
       "      <td>43.7450</td>\n",
       "      <td>-70.9092</td>\n",
       "      <td>1892</td>\n",
       "      <td>Audiological scientist</td>\n",
       "      <td>1956-03-02</td>\n",
       "      <td>8dd58e0b01634c3607e07871fb4abacf</td>\n",
       "      <td>1361412201</td>\n",
       "      <td>43.646257</td>\n",
       "      <td>-71.301242</td>\n",
       "      <td>0</td>\n",
       "    </tr>\n",
       "    <tr>\n",
       "      <th>542679</th>\n",
       "      <td>2019-08-20 08:35:57</td>\n",
       "      <td>2712209726293386</td>\n",
       "      <td>fraud_Bailey-Morar</td>\n",
       "      <td>grocery_pos</td>\n",
       "      <td>224.06</td>\n",
       "      <td>Jenna</td>\n",
       "      <td>Brooks</td>\n",
       "      <td>F</td>\n",
       "      <td>50872 Alex Plain Suite 088</td>\n",
       "      <td>Baton Rouge</td>\n",
       "      <td>...</td>\n",
       "      <td>30.4066</td>\n",
       "      <td>-91.1468</td>\n",
       "      <td>378909</td>\n",
       "      <td>Designer, furniture</td>\n",
       "      <td>1977-02-22</td>\n",
       "      <td>8c2adfbedcd5f1842f6d23e851dc99fc</td>\n",
       "      <td>1345451757</td>\n",
       "      <td>30.876916</td>\n",
       "      <td>-90.450890</td>\n",
       "      <td>0</td>\n",
       "    </tr>\n",
       "    <tr>\n",
       "      <th>426307</th>\n",
       "      <td>2019-07-10 12:15:26</td>\n",
       "      <td>6011366578560244</td>\n",
       "      <td>fraud_Kerluke-Abshire</td>\n",
       "      <td>shopping_net</td>\n",
       "      <td>9.15</td>\n",
       "      <td>Adam</td>\n",
       "      <td>Stark</td>\n",
       "      <td>M</td>\n",
       "      <td>0912 Mark Fields Apt. 080</td>\n",
       "      <td>Mc Veytown</td>\n",
       "      <td>...</td>\n",
       "      <td>40.5046</td>\n",
       "      <td>-77.7186</td>\n",
       "      <td>4653</td>\n",
       "      <td>Nutritional therapist</td>\n",
       "      <td>1997-07-01</td>\n",
       "      <td>0e7e0056a9387fefb3a4802bd6ea15a5</td>\n",
       "      <td>1341922526</td>\n",
       "      <td>41.178838</td>\n",
       "      <td>-78.399553</td>\n",
       "      <td>0</td>\n",
       "    </tr>\n",
       "    <tr>\n",
       "      <th>916091</th>\n",
       "      <td>2019-12-30 00:58:58</td>\n",
       "      <td>30551643947183</td>\n",
       "      <td>fraud_Simonis-Prohaska</td>\n",
       "      <td>misc_pos</td>\n",
       "      <td>229.75</td>\n",
       "      <td>Morgan</td>\n",
       "      <td>Smith</td>\n",
       "      <td>F</td>\n",
       "      <td>1441 Bradley Place</td>\n",
       "      <td>Grover</td>\n",
       "      <td>...</td>\n",
       "      <td>35.1836</td>\n",
       "      <td>-81.4552</td>\n",
       "      <td>5621</td>\n",
       "      <td>Toxicologist</td>\n",
       "      <td>1973-11-14</td>\n",
       "      <td>dff5c112bd22433bca14836815be3b94</td>\n",
       "      <td>1356829138</td>\n",
       "      <td>35.035593</td>\n",
       "      <td>-81.246366</td>\n",
       "      <td>0</td>\n",
       "    </tr>\n",
       "  </tbody>\n",
       "</table>\n",
       "<p>5 rows × 22 columns</p>\n",
       "</div>"
      ],
      "text/plain": [
       "        trans_date_trans_time            cc_num  \\\n",
       "509014    2019-08-09 02:35:06      571365235126   \n",
       "1011456   2020-02-21 02:03:21  2383461948823908   \n",
       "542679    2019-08-20 08:35:57  2712209726293386   \n",
       "426307    2019-07-10 12:15:26  6011366578560244   \n",
       "916091    2019-12-30 00:58:58    30551643947183   \n",
       "\n",
       "                                  merchant       category     amt    first  \\\n",
       "509014                    fraud_Sporer Inc  gas_transport   43.91  Barbara   \n",
       "1011456  fraud_Goldner, Kovacek and Abbott    grocery_pos  106.68  Patrick   \n",
       "542679                  fraud_Bailey-Morar    grocery_pos  224.06    Jenna   \n",
       "426307               fraud_Kerluke-Abshire   shopping_net    9.15     Adam   \n",
       "916091              fraud_Simonis-Prohaska       misc_pos  229.75   Morgan   \n",
       "\n",
       "            last gender                      street          city  ...  \\\n",
       "509014    Taylor      F  0069 Robin Brooks Apt. 695       Elberta  ...   \n",
       "1011456  Vaughan      M           651 Miller Common  Parsonsfield  ...   \n",
       "542679    Brooks      F  50872 Alex Plain Suite 088   Baton Rouge  ...   \n",
       "426307     Stark      M   0912 Mark Fields Apt. 080    Mc Veytown  ...   \n",
       "916091     Smith      F          1441 Bradley Place        Grover  ...   \n",
       "\n",
       "             lat     long  city_pop                                  job  \\\n",
       "509014   44.5995 -86.2141       372  Exhibitions officer, museum/gallery   \n",
       "1011456  43.7450 -70.9092      1892               Audiological scientist   \n",
       "542679   30.4066 -91.1468    378909                  Designer, furniture   \n",
       "426307   40.5046 -77.7186      4653                Nutritional therapist   \n",
       "916091   35.1836 -81.4552      5621                         Toxicologist   \n",
       "\n",
       "                dob                         trans_num   unix_time  merch_lat  \\\n",
       "509014   1995-07-12  eb2dd93988cfc8d25cc3888c74aa7cad  1344479706  44.189702   \n",
       "1011456  1956-03-02  8dd58e0b01634c3607e07871fb4abacf  1361412201  43.646257   \n",
       "542679   1977-02-22  8c2adfbedcd5f1842f6d23e851dc99fc  1345451757  30.876916   \n",
       "426307   1997-07-01  0e7e0056a9387fefb3a4802bd6ea15a5  1341922526  41.178838   \n",
       "916091   1973-11-14  dff5c112bd22433bca14836815be3b94  1356829138  35.035593   \n",
       "\n",
       "         merch_long  is_fraud  \n",
       "509014   -86.757037         0  \n",
       "1011456  -71.301242         0  \n",
       "542679   -90.450890         0  \n",
       "426307   -78.399553         0  \n",
       "916091   -81.246366         0  \n",
       "\n",
       "[5 rows x 22 columns]"
      ]
     },
     "execution_count": 5,
     "metadata": {},
     "output_type": "execute_result"
    }
   ],
   "source": [
    "# sampling the data \n",
    "main_df.sample(5)"
   ]
  },
  {
   "cell_type": "code",
   "execution_count": 6,
   "metadata": {},
   "outputs": [
    {
     "data": {
      "text/plain": [
       "(1296675, 22)"
      ]
     },
     "execution_count": 6,
     "metadata": {},
     "output_type": "execute_result"
    }
   ],
   "source": [
    "# checking the shape of the dataset\n",
    "main_df.shape"
   ]
  },
  {
   "cell_type": "code",
   "execution_count": 7,
   "metadata": {},
   "outputs": [
    {
     "name": "stdout",
     "output_type": "stream",
     "text": [
      "<class 'pandas.core.frame.DataFrame'>\n",
      "RangeIndex: 1296675 entries, 0 to 1296674\n",
      "Data columns (total 22 columns):\n",
      " #   Column                 Non-Null Count    Dtype  \n",
      "---  ------                 --------------    -----  \n",
      " 0   trans_date_trans_time  1296675 non-null  object \n",
      " 1   cc_num                 1296675 non-null  int64  \n",
      " 2   merchant               1296675 non-null  object \n",
      " 3   category               1296675 non-null  object \n",
      " 4   amt                    1296675 non-null  float64\n",
      " 5   first                  1296675 non-null  object \n",
      " 6   last                   1296675 non-null  object \n",
      " 7   gender                 1296675 non-null  object \n",
      " 8   street                 1296675 non-null  object \n",
      " 9   city                   1296675 non-null  object \n",
      " 10  state                  1296675 non-null  object \n",
      " 11  zip                    1296675 non-null  int64  \n",
      " 12  lat                    1296675 non-null  float64\n",
      " 13  long                   1296675 non-null  float64\n",
      " 14  city_pop               1296675 non-null  int64  \n",
      " 15  job                    1296675 non-null  object \n",
      " 16  dob                    1296675 non-null  object \n",
      " 17  trans_num              1296675 non-null  object \n",
      " 18  unix_time              1296675 non-null  int64  \n",
      " 19  merch_lat              1296675 non-null  float64\n",
      " 20  merch_long             1296675 non-null  float64\n",
      " 21  is_fraud               1296675 non-null  int64  \n",
      "dtypes: float64(5), int64(5), object(12)\n",
      "memory usage: 217.6+ MB\n"
     ]
    }
   ],
   "source": [
    "main_df.info()"
   ]
  },
  {
   "cell_type": "code",
   "execution_count": 8,
   "metadata": {},
   "outputs": [
    {
     "data": {
      "text/plain": [
       "trans_date_trans_time     object\n",
       "cc_num                     int64\n",
       "merchant                  object\n",
       "category                  object\n",
       "amt                      float64\n",
       "first                     object\n",
       "last                      object\n",
       "gender                    object\n",
       "street                    object\n",
       "city                      object\n",
       "state                     object\n",
       "zip                        int64\n",
       "lat                      float64\n",
       "long                     float64\n",
       "city_pop                   int64\n",
       "job                       object\n",
       "dob                       object\n",
       "trans_num                 object\n",
       "unix_time                  int64\n",
       "merch_lat                float64\n",
       "merch_long               float64\n",
       "is_fraud                   int64\n",
       "dtype: object"
      ]
     },
     "execution_count": 8,
     "metadata": {},
     "output_type": "execute_result"
    }
   ],
   "source": [
    "# checking for the datatypes \n",
    "main_df.dtypes"
   ]
  },
  {
   "cell_type": "markdown",
   "metadata": {},
   "source": [
    "## Data Cleaning"
   ]
  },
  {
   "cell_type": "code",
   "execution_count": 9,
   "metadata": {},
   "outputs": [
    {
     "data": {
      "text/plain": [
       "trans_date_trans_time    0\n",
       "cc_num                   0\n",
       "merchant                 0\n",
       "category                 0\n",
       "amt                      0\n",
       "first                    0\n",
       "last                     0\n",
       "gender                   0\n",
       "street                   0\n",
       "city                     0\n",
       "state                    0\n",
       "zip                      0\n",
       "lat                      0\n",
       "long                     0\n",
       "city_pop                 0\n",
       "job                      0\n",
       "dob                      0\n",
       "trans_num                0\n",
       "unix_time                0\n",
       "merch_lat                0\n",
       "merch_long               0\n",
       "is_fraud                 0\n",
       "dtype: int64"
      ]
     },
     "execution_count": 9,
     "metadata": {},
     "output_type": "execute_result"
    }
   ],
   "source": [
    "# 1.checking for missing values\n",
    "main_df.isna().sum()"
   ]
  },
  {
   "cell_type": "code",
   "execution_count": 10,
   "metadata": {},
   "outputs": [
    {
     "data": {
      "text/html": [
       "<div>\n",
       "<style scoped>\n",
       "    .dataframe tbody tr th:only-of-type {\n",
       "        vertical-align: middle;\n",
       "    }\n",
       "\n",
       "    .dataframe tbody tr th {\n",
       "        vertical-align: top;\n",
       "    }\n",
       "\n",
       "    .dataframe thead th {\n",
       "        text-align: right;\n",
       "    }\n",
       "</style>\n",
       "<table border=\"1\" class=\"dataframe\">\n",
       "  <thead>\n",
       "    <tr style=\"text-align: right;\">\n",
       "      <th></th>\n",
       "      <th>missing_values</th>\n",
       "      <th>percent_missing %</th>\n",
       "    </tr>\n",
       "  </thead>\n",
       "  <tbody>\n",
       "    <tr>\n",
       "      <th>trans_date_trans_time</th>\n",
       "      <td>0</td>\n",
       "      <td>0.0</td>\n",
       "    </tr>\n",
       "    <tr>\n",
       "      <th>cc_num</th>\n",
       "      <td>0</td>\n",
       "      <td>0.0</td>\n",
       "    </tr>\n",
       "    <tr>\n",
       "      <th>merchant</th>\n",
       "      <td>0</td>\n",
       "      <td>0.0</td>\n",
       "    </tr>\n",
       "    <tr>\n",
       "      <th>category</th>\n",
       "      <td>0</td>\n",
       "      <td>0.0</td>\n",
       "    </tr>\n",
       "    <tr>\n",
       "      <th>amt</th>\n",
       "      <td>0</td>\n",
       "      <td>0.0</td>\n",
       "    </tr>\n",
       "    <tr>\n",
       "      <th>first</th>\n",
       "      <td>0</td>\n",
       "      <td>0.0</td>\n",
       "    </tr>\n",
       "    <tr>\n",
       "      <th>last</th>\n",
       "      <td>0</td>\n",
       "      <td>0.0</td>\n",
       "    </tr>\n",
       "    <tr>\n",
       "      <th>gender</th>\n",
       "      <td>0</td>\n",
       "      <td>0.0</td>\n",
       "    </tr>\n",
       "    <tr>\n",
       "      <th>street</th>\n",
       "      <td>0</td>\n",
       "      <td>0.0</td>\n",
       "    </tr>\n",
       "    <tr>\n",
       "      <th>city</th>\n",
       "      <td>0</td>\n",
       "      <td>0.0</td>\n",
       "    </tr>\n",
       "    <tr>\n",
       "      <th>state</th>\n",
       "      <td>0</td>\n",
       "      <td>0.0</td>\n",
       "    </tr>\n",
       "    <tr>\n",
       "      <th>zip</th>\n",
       "      <td>0</td>\n",
       "      <td>0.0</td>\n",
       "    </tr>\n",
       "    <tr>\n",
       "      <th>lat</th>\n",
       "      <td>0</td>\n",
       "      <td>0.0</td>\n",
       "    </tr>\n",
       "    <tr>\n",
       "      <th>long</th>\n",
       "      <td>0</td>\n",
       "      <td>0.0</td>\n",
       "    </tr>\n",
       "    <tr>\n",
       "      <th>city_pop</th>\n",
       "      <td>0</td>\n",
       "      <td>0.0</td>\n",
       "    </tr>\n",
       "    <tr>\n",
       "      <th>job</th>\n",
       "      <td>0</td>\n",
       "      <td>0.0</td>\n",
       "    </tr>\n",
       "    <tr>\n",
       "      <th>dob</th>\n",
       "      <td>0</td>\n",
       "      <td>0.0</td>\n",
       "    </tr>\n",
       "    <tr>\n",
       "      <th>trans_num</th>\n",
       "      <td>0</td>\n",
       "      <td>0.0</td>\n",
       "    </tr>\n",
       "    <tr>\n",
       "      <th>unix_time</th>\n",
       "      <td>0</td>\n",
       "      <td>0.0</td>\n",
       "    </tr>\n",
       "    <tr>\n",
       "      <th>merch_lat</th>\n",
       "      <td>0</td>\n",
       "      <td>0.0</td>\n",
       "    </tr>\n",
       "    <tr>\n",
       "      <th>merch_long</th>\n",
       "      <td>0</td>\n",
       "      <td>0.0</td>\n",
       "    </tr>\n",
       "    <tr>\n",
       "      <th>is_fraud</th>\n",
       "      <td>0</td>\n",
       "      <td>0.0</td>\n",
       "    </tr>\n",
       "  </tbody>\n",
       "</table>\n",
       "</div>"
      ],
      "text/plain": [
       "                       missing_values   percent_missing %\n",
       "trans_date_trans_time                0                0.0\n",
       "cc_num                               0                0.0\n",
       "merchant                             0                0.0\n",
       "category                             0                0.0\n",
       "amt                                  0                0.0\n",
       "first                                0                0.0\n",
       "last                                 0                0.0\n",
       "gender                               0                0.0\n",
       "street                               0                0.0\n",
       "city                                 0                0.0\n",
       "state                                0                0.0\n",
       "zip                                  0                0.0\n",
       "lat                                  0                0.0\n",
       "long                                 0                0.0\n",
       "city_pop                             0                0.0\n",
       "job                                  0                0.0\n",
       "dob                                  0                0.0\n",
       "trans_num                            0                0.0\n",
       "unix_time                            0                0.0\n",
       "merch_lat                            0                0.0\n",
       "merch_long                           0                0.0\n",
       "is_fraud                             0                0.0"
      ]
     },
     "execution_count": 10,
     "metadata": {},
     "output_type": "execute_result"
    }
   ],
   "source": [
    "# check for missing data\n",
    "missing_values=main_df.isnull().sum()\n",
    "percent_missing = main_df.isnull().sum()/main_df.shape[0]*100\n",
    "\n",
    "value = {\n",
    "    'missing_values ':missing_values,\n",
    "    'percent_missing %':percent_missing\n",
    "}\n",
    "frame=pd.DataFrame(value)\n",
    "frame"
   ]
  },
  {
   "cell_type": "markdown",
   "metadata": {},
   "source": [
    "The dataset shows completeness as it has no missing values"
   ]
  },
  {
   "cell_type": "code",
   "execution_count": 11,
   "metadata": {},
   "outputs": [
    {
     "data": {
      "text/plain": [
       "0"
      ]
     },
     "execution_count": 11,
     "metadata": {},
     "output_type": "execute_result"
    }
   ],
   "source": [
    "# 2.Checking for duplicates\n",
    "main_df.duplicated().sum()"
   ]
  },
  {
   "cell_type": "code",
   "execution_count": 12,
   "metadata": {},
   "outputs": [
    {
     "name": "stdout",
     "output_type": "stream",
     "text": [
      "no duplicated data\n"
     ]
    }
   ],
   "source": [
    "# check if there any duplicated data for train\n",
    "duplicate_1 = main_df[main_df.duplicated()]\n",
    "if duplicate_1.empty== True:\n",
    "    print(\"no duplicated data\")\n",
    "else:\n",
    "    print(\"Duplicate Rows except first occurrence based on all columns are :\")\n",
    "    print(duplicate_1)"
   ]
  },
  {
   "cell_type": "markdown",
   "metadata": {},
   "source": [
    "The dataset has no duplicate values"
   ]
  },
  {
   "cell_type": "code",
   "execution_count": 13,
   "metadata": {},
   "outputs": [
    {
     "data": {
      "text/plain": [
       "<AxesSubplot:>"
      ]
     },
     "execution_count": 13,
     "metadata": {},
     "output_type": "execute_result"
    },
    {
     "data": {
      "image/png": "[encoded data removed]",
      "text/plain": [
       "<Figure size 864x720 with 1 Axes>"
      ]
     },
     "metadata": {
      "needs_background": "light"
     },
     "output_type": "display_data"
    }
   ],
   "source": [
    "# 3. Checking for outliers \n",
    "main_df.boxplot(figsize=(12,10))"
   ]
  },
  {
   "cell_type": "markdown",
   "metadata": {},
   "source": [
    "The dataset has no outliers for a majority of the columns apart from the cc_num column"
   ]
  },
  {
   "cell_type": "code",
   "execution_count": 14,
   "metadata": {},
   "outputs": [
    {
     "data": {
      "text/plain": [
       "<AxesSubplot:>"
      ]
     },
     "execution_count": 14,
     "metadata": {},
     "output_type": "execute_result"
    },
    {
     "data": {
      "image/png": "[encoded data removed]",
      "text/plain": [
       "<Figure size 432x288 with 1 Axes>"
      ]
     },
     "metadata": {
      "needs_background": "light"
     },
     "output_type": "display_data"
    }
   ],
   "source": [
    "main_df[['cc_num']].boxplot()"
   ]
  },
  {
   "cell_type": "code",
   "execution_count": 15,
   "metadata": {},
   "outputs": [
    {
     "name": "stdout",
     "output_type": "stream",
     "text": [
      "Lower bound:  -6513275846701038.0\n",
      "Upper bound:  1.133557426847813e+16\n",
      "Number of outliers:  118789\n",
      "Percentage of outliers:  0.09161046522837257\n",
      "Number of values within bounds:  1177886\n",
      "Percentage of values within bounds:  0.9083895347716274\n"
     ]
    }
   ],
   "source": [
    "# dealing with outliers\n",
    "def check_deal_outlier(df, col):\n",
    "    q1 = df[col].quantile(0.25)\n",
    "    q3 = df[col].quantile(0.75)\n",
    "    iqr = q3 - q1\n",
    "    lower_bound = q1 - (1.5 * iqr)\n",
    "    upper_bound = q3 + (1.5 * iqr)\n",
    "    print('Lower bound: ', lower_bound)\n",
    "    print('Upper bound: ', upper_bound)\n",
    "    print('Number of outliers: ', df[(df[col] < lower_bound) | (df[col] > upper_bound)].shape[0])\n",
    "    print('Percentage of outliers: ', df[(df[col] < lower_bound) | (df[col] > upper_bound)].shape[0] / df.shape[0])\n",
    "    print('Number of values within bounds: ', df[(df[col] >= lower_bound) & (df[col] <= upper_bound)].shape[0])\n",
    "    print('Percentage of values within bounds: ', df[(df[col] >= lower_bound) & (df[col] <= upper_bound)].shape[0] / df.shape[0])\n",
    "    return df[(df[col] >= lower_bound) & (df[col] <= upper_bound)]\n",
    "\n",
    "main_df = check_deal_outlier(main_df, 'cc_num')"
   ]
  },
  {
   "cell_type": "code",
   "execution_count": 16,
   "metadata": {},
   "outputs": [
    {
     "data": {
      "text/plain": [
       "cc_num         0.237138\n",
       "amt           43.671834\n",
       "zip            0.101705\n",
       "lat           -0.091407\n",
       "long          -1.067024\n",
       "city_pop       5.620853\n",
       "unix_time      0.003706\n",
       "merch_lat     -0.089303\n",
       "merch_long    -1.064155\n",
       "is_fraud      13.009112\n",
       "dtype: float64"
      ]
     },
     "execution_count": 16,
     "metadata": {},
     "output_type": "execute_result"
    }
   ],
   "source": [
    "# 4. Checking for skewness\n",
    "main_df.skew()"
   ]
  },
  {
   "cell_type": "code",
   "execution_count": 17,
   "metadata": {},
   "outputs": [
    {
     "data": {
      "text/plain": [
       "trans_date_trans_time     object\n",
       "cc_num                     int64\n",
       "merchant                  object\n",
       "category                  object\n",
       "amt                      float64\n",
       "first                     object\n",
       "last                      object\n",
       "gender                    object\n",
       "street                    object\n",
       "city                      object\n",
       "state                     object\n",
       "zip                        int64\n",
       "lat                      float64\n",
       "long                     float64\n",
       "city_pop                   int64\n",
       "job                       object\n",
       "dob                       object\n",
       "trans_num                 object\n",
       "unix_time                  int64\n",
       "merch_lat                float64\n",
       "merch_long               float64\n",
       "is_fraud                   int64\n",
       "dtype: object"
      ]
     },
     "execution_count": 17,
     "metadata": {},
     "output_type": "execute_result"
    }
   ],
   "source": [
    "main_df.dtypes"
   ]
  },
  {
   "cell_type": "code",
   "execution_count": 18,
   "metadata": {},
   "outputs": [],
   "source": [
    "# Renaming the columns\n",
    "main_df.rename(columns={'amt':'amount','first':'first_name','last':'last_name','merchant':'merchant_name','category':'merchant_category','job':'job_title','dob':'date_of_birth','unix_time':'unix_time_trans'},inplace=True)"
   ]
  },
  {
   "cell_type": "code",
   "execution_count": 19,
   "metadata": {},
   "outputs": [
    {
     "data": {
      "text/plain": [
       "Index(['trans_date_trans_time', 'cc_num', 'merchant_name', 'merchant_category',\n",
       "       'amount', 'first_name', 'last_name', 'gender', 'street', 'city',\n",
       "       'state', 'zip', 'lat', 'long', 'city_pop', 'job_title', 'date_of_birth',\n",
       "       'trans_num', 'unix_time_trans', 'merch_lat', 'merch_long', 'is_fraud'],\n",
       "      dtype='object')"
      ]
     },
     "execution_count": 19,
     "metadata": {},
     "output_type": "execute_result"
    }
   ],
   "source": [
    "main_df.columns"
   ]
  },
  {
   "cell_type": "code",
   "execution_count": 20,
   "metadata": {},
   "outputs": [],
   "source": [
    "#  ensuring the correct datatypes for the columns\n",
    "main_df['trans_date_trans_time'] = pd.to_datetime(main_df['trans_date_trans_time'])\n",
    "main_df['merchant_category'] = main_df['merchant_category'].astype('category')\n",
    "main_df['gender'] = main_df['gender'].astype('category')\n",
    "main_df['street'] = main_df['street'].astype('category')\n",
    "main_df['state'] = main_df['state'].astype('category')\n",
    "main_df['job_title'] = main_df['job_title'].astype('category')\n",
    "main_df['date_of_birth'] = pd.to_datetime(main_df['date_of_birth'])\n",
    "main_df['is_fraud'] = main_df['is_fraud'].astype('category')\n",
    "main_df['city'] = main_df['city'].astype('category')"
   ]
  },
  {
   "cell_type": "code",
   "execution_count": 21,
   "metadata": {},
   "outputs": [
    {
     "data": {
      "text/html": [
       "<div>\n",
       "<style scoped>\n",
       "    .dataframe tbody tr th:only-of-type {\n",
       "        vertical-align: middle;\n",
       "    }\n",
       "\n",
       "    .dataframe tbody tr th {\n",
       "        vertical-align: top;\n",
       "    }\n",
       "\n",
       "    .dataframe thead th {\n",
       "        text-align: right;\n",
       "    }\n",
       "</style>\n",
       "<table border=\"1\" class=\"dataframe\">\n",
       "  <thead>\n",
       "    <tr style=\"text-align: right;\">\n",
       "      <th></th>\n",
       "      <th>0</th>\n",
       "    </tr>\n",
       "  </thead>\n",
       "  <tbody>\n",
       "    <tr>\n",
       "      <th>trans_date_trans_time</th>\n",
       "      <td>datetime64[ns]</td>\n",
       "    </tr>\n",
       "    <tr>\n",
       "      <th>cc_num</th>\n",
       "      <td>int64</td>\n",
       "    </tr>\n",
       "    <tr>\n",
       "      <th>merchant_name</th>\n",
       "      <td>object</td>\n",
       "    </tr>\n",
       "    <tr>\n",
       "      <th>merchant_category</th>\n",
       "      <td>category</td>\n",
       "    </tr>\n",
       "    <tr>\n",
       "      <th>amount</th>\n",
       "      <td>float64</td>\n",
       "    </tr>\n",
       "    <tr>\n",
       "      <th>first_name</th>\n",
       "      <td>object</td>\n",
       "    </tr>\n",
       "    <tr>\n",
       "      <th>last_name</th>\n",
       "      <td>object</td>\n",
       "    </tr>\n",
       "    <tr>\n",
       "      <th>gender</th>\n",
       "      <td>category</td>\n",
       "    </tr>\n",
       "    <tr>\n",
       "      <th>street</th>\n",
       "      <td>category</td>\n",
       "    </tr>\n",
       "    <tr>\n",
       "      <th>city</th>\n",
       "      <td>category</td>\n",
       "    </tr>\n",
       "    <tr>\n",
       "      <th>state</th>\n",
       "      <td>category</td>\n",
       "    </tr>\n",
       "    <tr>\n",
       "      <th>zip</th>\n",
       "      <td>int64</td>\n",
       "    </tr>\n",
       "    <tr>\n",
       "      <th>lat</th>\n",
       "      <td>float64</td>\n",
       "    </tr>\n",
       "    <tr>\n",
       "      <th>long</th>\n",
       "      <td>float64</td>\n",
       "    </tr>\n",
       "    <tr>\n",
       "      <th>city_pop</th>\n",
       "      <td>int64</td>\n",
       "    </tr>\n",
       "    <tr>\n",
       "      <th>job_title</th>\n",
       "      <td>category</td>\n",
       "    </tr>\n",
       "    <tr>\n",
       "      <th>date_of_birth</th>\n",
       "      <td>datetime64[ns]</td>\n",
       "    </tr>\n",
       "    <tr>\n",
       "      <th>trans_num</th>\n",
       "      <td>object</td>\n",
       "    </tr>\n",
       "    <tr>\n",
       "      <th>unix_time_trans</th>\n",
       "      <td>int64</td>\n",
       "    </tr>\n",
       "    <tr>\n",
       "      <th>merch_lat</th>\n",
       "      <td>float64</td>\n",
       "    </tr>\n",
       "    <tr>\n",
       "      <th>merch_long</th>\n",
       "      <td>float64</td>\n",
       "    </tr>\n",
       "    <tr>\n",
       "      <th>is_fraud</th>\n",
       "      <td>category</td>\n",
       "    </tr>\n",
       "  </tbody>\n",
       "</table>\n",
       "</div>"
      ],
      "text/plain": [
       "                                    0\n",
       "trans_date_trans_time  datetime64[ns]\n",
       "cc_num                          int64\n",
       "merchant_name                  object\n",
       "merchant_category            category\n",
       "amount                        float64\n",
       "first_name                     object\n",
       "last_name                      object\n",
       "gender                       category\n",
       "street                       category\n",
       "city                         category\n",
       "state                        category\n",
       "zip                             int64\n",
       "lat                           float64\n",
       "long                          float64\n",
       "city_pop                        int64\n",
       "job_title                    category\n",
       "date_of_birth          datetime64[ns]\n",
       "trans_num                      object\n",
       "unix_time_trans                 int64\n",
       "merch_lat                     float64\n",
       "merch_long                    float64\n",
       "is_fraud                     category"
      ]
     },
     "execution_count": 21,
     "metadata": {},
     "output_type": "execute_result"
    }
   ],
   "source": [
    "info = pd.DataFrame(main_df.dtypes)\n",
    "info"
   ]
  },
  {
   "cell_type": "markdown",
   "metadata": {},
   "source": [
    "## Expanatory Data analysis"
   ]
  },
  {
   "cell_type": "code",
   "execution_count": 22,
   "metadata": {},
   "outputs": [],
   "source": [
    "sns.set_style('darkgrid')"
   ]
  },
  {
   "cell_type": "code",
   "execution_count": 23,
   "metadata": {},
   "outputs": [
    {
     "data": {
      "text/plain": [
       "0    1171047\n",
       "1       6839\n",
       "Name: is_fraud, dtype: int64"
      ]
     },
     "execution_count": 23,
     "metadata": {},
     "output_type": "execute_result"
    }
   ],
   "source": [
    "main_df.is_fraud.value_counts()"
   ]
  },
  {
   "cell_type": "code",
   "execution_count": 24,
   "metadata": {},
   "outputs": [
    {
     "data": {
      "text/plain": [
       "<AxesSubplot:xlabel='is_fraud', ylabel='count'>"
      ]
     },
     "execution_count": 24,
     "metadata": {},
     "output_type": "execute_result"
    },
    {
     "data": {
      "image/png": "[encoded data removed]",
      "text/plain": [
       "<Figure size 864x720 with 1 Axes>"
      ]
     },
     "metadata": {},
     "output_type": "display_data"
    }
   ],
   "source": [
    "# visualizing the target column\n",
    "fig ,ax = plt.subplots(figsize=(12,10))\n",
    "sns.countplot(main_df.is_fraud,ax=ax)"
   ]
  },
  {
   "cell_type": "code",
   "execution_count": 25,
   "metadata": {},
   "outputs": [
    {
     "data": {
      "text/plain": [
       "<AxesSubplot:xlabel='gender', ylabel='count'>"
      ]
     },
     "execution_count": 25,
     "metadata": {},
     "output_type": "execute_result"
    },
    {
     "data": {
      "image/png": "[encoded data removed]",
      "text/plain": [
       "<Figure size 864x720 with 1 Axes>"
      ]
     },
     "metadata": {},
     "output_type": "display_data"
    }
   ],
   "source": [
    "# plotting of gender vs is_fraud\n",
    "fig , ax = plt.subplots(figsize=(12,10))\n",
    "sns.countplot(x='gender',data=main_df,hue='is_fraud',ax=ax)"
   ]
  },
  {
   "cell_type": "code",
   "execution_count": 26,
   "metadata": {},
   "outputs": [
    {
     "data": {
      "text/plain": [
       "<matplotlib.legend.Legend at 0x7f9559cb8a00>"
      ]
     },
     "execution_count": 26,
     "metadata": {},
     "output_type": "execute_result"
    },
    {
     "data": {
      "image/png": "[encoded data removed]",
      "text/plain": [
       "<Figure size 864x720 with 1 Axes>"
      ]
     },
     "metadata": {},
     "output_type": "display_data"
    }
   ],
   "source": [
    "#age vs fraud\n",
    "import datetime as dt\n",
    "\n",
    "fig , ax = plt.subplots(figsize=(12,10))\n",
    "main_df['age']=dt.date.today().year-pd.to_datetime(main_df['date_of_birth']).dt.year\n",
    "ax=sns.kdeplot(x='age',data=main_df, hue='is_fraud', common_norm=False,ax=ax)\n",
    "ax.set_xlabel('Credit Card Holder Age')\n",
    "ax.set_ylabel('Density')\n",
    "plt.xticks(np.arange(0,110,5))\n",
    "plt.title('Age Distribution in Fraudulent vs Non-Fraudulent Transactions')\n",
    "plt.legend(title='Type', labels=['Fraud', 'Not Fraud'])"
   ]
  },
  {
   "cell_type": "code",
   "execution_count": 27,
   "metadata": {},
   "outputs": [
    {
     "data": {
      "text/plain": [
       "(array([ 0,  1,  2,  3,  4,  5,  6,  7,  8,  9, 10, 11, 12, 13]),\n",
       " [Text(0, 0, 'entertainment'),\n",
       "  Text(1, 0, 'food_dining'),\n",
       "  Text(2, 0, 'gas_transport'),\n",
       "  Text(3, 0, 'grocery_net'),\n",
       "  Text(4, 0, 'grocery_pos'),\n",
       "  Text(5, 0, 'health_fitness'),\n",
       "  Text(6, 0, 'home'),\n",
       "  Text(7, 0, 'kids_pets'),\n",
       "  Text(8, 0, 'misc_net'),\n",
       "  Text(9, 0, 'misc_pos'),\n",
       "  Text(10, 0, 'personal_care'),\n",
       "  Text(11, 0, 'shopping_net'),\n",
       "  Text(12, 0, 'shopping_pos'),\n",
       "  Text(13, 0, 'travel')])"
      ]
     },
     "execution_count": 27,
     "metadata": {},
     "output_type": "execute_result"
    },
    {
     "data": {
      "image/png": "[encoded data removed]",
      "text/plain": [
       "<Figure size 864x720 with 1 Axes>"
      ]
     },
     "metadata": {},
     "output_type": "display_data"
    }
   ],
   "source": [
    "# merchant category vs fraud\n",
    "fig , ax = plt.subplots(figsize=(12,10))\n",
    "sns.countplot(x='merchant_category',data=main_df,hue='is_fraud',ax=ax)\n",
    "plt.xticks(rotation=90)\n"
   ]
  },
  {
   "cell_type": "code",
   "execution_count": 28,
   "metadata": {},
   "outputs": [
    {
     "data": {
      "text/plain": [
       "<matplotlib.legend.Legend at 0x7f959626bfa0>"
      ]
     },
     "execution_count": 28,
     "metadata": {},
     "output_type": "execute_result"
    },
    {
     "data": {
      "image/png": "[encoded data removed]",
      "text/plain": [
       "<Figure size 864x720 with 1 Axes>"
      ]
     },
     "metadata": {},
     "output_type": "display_data"
    }
   ],
   "source": [
    "# amount vs fraud\n",
    "fig , ax = plt.subplots(figsize=(12,10))\n",
    "sns.kdeplot(x='amount',data=main_df, hue='is_fraud', common_norm=False,ax=ax)\n",
    "ax.set_xlabel('Transaction Amount')\n",
    "ax.set_ylabel('Density')\n",
    "plt.title('Amount Distribution in Fraudulent vs Non-Fraudulent Transactions')\n",
    "plt.legend(title='Type', labels=['Fraud', 'Not Fraud'])"
   ]
  },
  {
   "cell_type": "code",
   "execution_count": 29,
   "metadata": {},
   "outputs": [
    {
     "data": {
      "text/plain": [
       "<matplotlib.legend.Legend at 0x7f955a94cb80>"
      ]
     },
     "execution_count": 29,
     "metadata": {},
     "output_type": "execute_result"
    },
    {
     "data": {
      "image/png": "[encoded data removed]",
      "text/plain": [
       "<Figure size 864x720 with 1 Axes>"
      ]
     },
     "metadata": {},
     "output_type": "display_data"
    }
   ],
   "source": [
    "# create month column \n",
    "# compare month vs fraud\n",
    "fig, ax = plt.subplots(figsize=(12,10))\n",
    "main_df['month']=pd.to_datetime(main_df['trans_date_trans_time']).dt.month\n",
    "ax=sns.histplot(data=main_df, x=\"month\", hue=\"is_fraud\", common_norm=False,stat='percent',multiple='dodge',ax=ax)\n",
    "ax.set_ylabel('Percentage')\n",
    "ax.set_xlabel('Month')\n",
    "plt.xticks(np.arange(1,13,1))\n",
    "ax.set_xticklabels([\"Jan\",\"Feb\",\"Mar\",\"Apr\",\"May\",\"Jun\",\"Jul\",'Aug','Sep','Oct','Nov','Dec'])\n",
    "plt.legend(title='Type', labels=['Fraud', 'Not Fraud'])"
   ]
  },
  {
   "cell_type": "code",
   "execution_count": 30,
   "metadata": {},
   "outputs": [
    {
     "data": {
      "text/plain": [
       "<matplotlib.legend.Legend at 0x7f9592e651f0>"
      ]
     },
     "execution_count": 30,
     "metadata": {},
     "output_type": "execute_result"
    },
    {
     "data": {
      "image/png": "[encoded data removed]",
      "text/plain": [
       "<Figure size 864x720 with 1 Axes>"
      ]
     },
     "metadata": {},
     "output_type": "display_data"
    }
   ],
   "source": [
    "# create day column\n",
    "# day of week vs fraud\n",
    "fig, ax = plt.subplots(figsize=(12,10))\n",
    "main_df['day']=pd.to_datetime(main_df['trans_date_trans_time']).dt.dayofweek\n",
    "sns.histplot(data=main_df, x=\"day\", hue=\"is_fraud\", common_norm=False,stat='percent',multiple='dodge',ax=ax)\n",
    "ax.set_xticklabels(['',\"Mon\",\"Tue\",\"Wed\",\"Thu\",\"Fri\",\"Sat\",\"Sun\"])\n",
    "ax.set_ylabel('Percentage')\n",
    "ax.set_xlabel('Day of Week')\n",
    "plt.legend(title='Type', labels=['Fraud', 'Not Fraud'])"
   ]
  },
  {
   "cell_type": "code",
   "execution_count": 31,
   "metadata": {},
   "outputs": [
    {
     "data": {
      "text/plain": [
       "<AxesSubplot:xlabel='state', ylabel='count'>"
      ]
     },
     "execution_count": 31,
     "metadata": {},
     "output_type": "execute_result"
    },
    {
     "data": {
      "image/png": "[encoded data removed]",
      "text/plain": [
       "<Figure size 864x720 with 1 Axes>"
      ]
     },
     "metadata": {},
     "output_type": "display_data"
    }
   ],
   "source": [
    "# states vs fraud\n",
    "fig , ax = plt.subplots(figsize=(12,10))\n",
    "sns.countplot(x='state',data=main_df,hue='is_fraud',ax=ax)\n"
   ]
  },
  {
   "cell_type": "code",
   "execution_count": 32,
   "metadata": {},
   "outputs": [
    {
     "data": {
      "text/html": [
       "<div>\n",
       "<style scoped>\n",
       "    .dataframe tbody tr th:only-of-type {\n",
       "        vertical-align: middle;\n",
       "    }\n",
       "\n",
       "    .dataframe tbody tr th {\n",
       "        vertical-align: top;\n",
       "    }\n",
       "\n",
       "    .dataframe thead th {\n",
       "        text-align: right;\n",
       "    }\n",
       "</style>\n",
       "<table border=\"1\" class=\"dataframe\">\n",
       "  <thead>\n",
       "    <tr style=\"text-align: right;\">\n",
       "      <th></th>\n",
       "      <th>cc_num</th>\n",
       "      <th>amount</th>\n",
       "      <th>zip</th>\n",
       "      <th>lat</th>\n",
       "      <th>long</th>\n",
       "      <th>city_pop</th>\n",
       "      <th>unix_time_trans</th>\n",
       "      <th>merch_lat</th>\n",
       "      <th>merch_long</th>\n",
       "      <th>age</th>\n",
       "      <th>month</th>\n",
       "      <th>day</th>\n",
       "    </tr>\n",
       "  </thead>\n",
       "  <tbody>\n",
       "    <tr>\n",
       "      <th>cc_num</th>\n",
       "      <td>1.000000</td>\n",
       "      <td>0.001529</td>\n",
       "      <td>0.004806</td>\n",
       "      <td>0.020999</td>\n",
       "      <td>-0.005407</td>\n",
       "      <td>0.004108</td>\n",
       "      <td>0.002588</td>\n",
       "      <td>0.020801</td>\n",
       "      <td>-0.005422</td>\n",
       "      <td>-0.045360</td>\n",
       "      <td>0.001269</td>\n",
       "      <td>0.000420</td>\n",
       "    </tr>\n",
       "    <tr>\n",
       "      <th>amount</th>\n",
       "      <td>0.001529</td>\n",
       "      <td>1.000000</td>\n",
       "      <td>0.001916</td>\n",
       "      <td>-0.002634</td>\n",
       "      <td>-0.000547</td>\n",
       "      <td>0.005512</td>\n",
       "      <td>-0.000769</td>\n",
       "      <td>-0.002570</td>\n",
       "      <td>-0.000525</td>\n",
       "      <td>-0.009272</td>\n",
       "      <td>-0.001427</td>\n",
       "      <td>-0.001397</td>\n",
       "    </tr>\n",
       "    <tr>\n",
       "      <th>zip</th>\n",
       "      <td>0.004806</td>\n",
       "      <td>0.001916</td>\n",
       "      <td>1.000000</td>\n",
       "      <td>-0.099968</td>\n",
       "      <td>-0.917270</td>\n",
       "      <td>0.069685</td>\n",
       "      <td>0.000568</td>\n",
       "      <td>-0.099275</td>\n",
       "      <td>-0.916399</td>\n",
       "      <td>0.019638</td>\n",
       "      <td>0.001289</td>\n",
       "      <td>-0.001213</td>\n",
       "    </tr>\n",
       "    <tr>\n",
       "      <th>lat</th>\n",
       "      <td>0.020999</td>\n",
       "      <td>-0.002634</td>\n",
       "      <td>-0.099968</td>\n",
       "      <td>1.000000</td>\n",
       "      <td>-0.051365</td>\n",
       "      <td>-0.155385</td>\n",
       "      <td>0.001051</td>\n",
       "      <td>0.993488</td>\n",
       "      <td>-0.051281</td>\n",
       "      <td>0.053734</td>\n",
       "      <td>-0.000469</td>\n",
       "      <td>0.000309</td>\n",
       "    </tr>\n",
       "    <tr>\n",
       "      <th>long</th>\n",
       "      <td>-0.005407</td>\n",
       "      <td>-0.000547</td>\n",
       "      <td>-0.917270</td>\n",
       "      <td>-0.051365</td>\n",
       "      <td>1.000000</td>\n",
       "      <td>-0.046302</td>\n",
       "      <td>-0.000421</td>\n",
       "      <td>-0.051097</td>\n",
       "      <td>0.999075</td>\n",
       "      <td>-0.048561</td>\n",
       "      <td>-0.001527</td>\n",
       "      <td>0.001493</td>\n",
       "    </tr>\n",
       "    <tr>\n",
       "      <th>city_pop</th>\n",
       "      <td>0.004108</td>\n",
       "      <td>0.005512</td>\n",
       "      <td>0.069685</td>\n",
       "      <td>-0.155385</td>\n",
       "      <td>-0.046302</td>\n",
       "      <td>1.000000</td>\n",
       "      <td>-0.001687</td>\n",
       "      <td>-0.154450</td>\n",
       "      <td>-0.046266</td>\n",
       "      <td>-0.099754</td>\n",
       "      <td>-0.000019</td>\n",
       "      <td>0.002368</td>\n",
       "    </tr>\n",
       "    <tr>\n",
       "      <th>unix_time_trans</th>\n",
       "      <td>0.002588</td>\n",
       "      <td>-0.000769</td>\n",
       "      <td>0.000568</td>\n",
       "      <td>0.001051</td>\n",
       "      <td>-0.000421</td>\n",
       "      <td>-0.001687</td>\n",
       "      <td>1.000000</td>\n",
       "      <td>0.000950</td>\n",
       "      <td>-0.000417</td>\n",
       "      <td>-0.003566</td>\n",
       "      <td>0.184976</td>\n",
       "      <td>-0.029498</td>\n",
       "    </tr>\n",
       "    <tr>\n",
       "      <th>merch_lat</th>\n",
       "      <td>0.020801</td>\n",
       "      <td>-0.002570</td>\n",
       "      <td>-0.099275</td>\n",
       "      <td>0.993488</td>\n",
       "      <td>-0.051097</td>\n",
       "      <td>-0.154450</td>\n",
       "      <td>0.000950</td>\n",
       "      <td>1.000000</td>\n",
       "      <td>-0.051019</td>\n",
       "      <td>0.053339</td>\n",
       "      <td>-0.000513</td>\n",
       "      <td>0.000075</td>\n",
       "    </tr>\n",
       "    <tr>\n",
       "      <th>merch_long</th>\n",
       "      <td>-0.005422</td>\n",
       "      <td>-0.000525</td>\n",
       "      <td>-0.916399</td>\n",
       "      <td>-0.051281</td>\n",
       "      <td>0.999075</td>\n",
       "      <td>-0.046266</td>\n",
       "      <td>-0.000417</td>\n",
       "      <td>-0.051019</td>\n",
       "      <td>1.000000</td>\n",
       "      <td>-0.048475</td>\n",
       "      <td>-0.001522</td>\n",
       "      <td>0.001467</td>\n",
       "    </tr>\n",
       "    <tr>\n",
       "      <th>age</th>\n",
       "      <td>-0.045360</td>\n",
       "      <td>-0.009272</td>\n",
       "      <td>0.019638</td>\n",
       "      <td>0.053734</td>\n",
       "      <td>-0.048561</td>\n",
       "      <td>-0.099754</td>\n",
       "      <td>-0.003566</td>\n",
       "      <td>0.053339</td>\n",
       "      <td>-0.048475</td>\n",
       "      <td>1.000000</td>\n",
       "      <td>0.002251</td>\n",
       "      <td>-0.012093</td>\n",
       "    </tr>\n",
       "    <tr>\n",
       "      <th>month</th>\n",
       "      <td>0.001269</td>\n",
       "      <td>-0.001427</td>\n",
       "      <td>0.001289</td>\n",
       "      <td>-0.000469</td>\n",
       "      <td>-0.001527</td>\n",
       "      <td>-0.000019</td>\n",
       "      <td>0.184976</td>\n",
       "      <td>-0.000513</td>\n",
       "      <td>-0.001522</td>\n",
       "      <td>0.002251</td>\n",
       "      <td>1.000000</td>\n",
       "      <td>0.040657</td>\n",
       "    </tr>\n",
       "    <tr>\n",
       "      <th>day</th>\n",
       "      <td>0.000420</td>\n",
       "      <td>-0.001397</td>\n",
       "      <td>-0.001213</td>\n",
       "      <td>0.000309</td>\n",
       "      <td>0.001493</td>\n",
       "      <td>0.002368</td>\n",
       "      <td>-0.029498</td>\n",
       "      <td>0.000075</td>\n",
       "      <td>0.001467</td>\n",
       "      <td>-0.012093</td>\n",
       "      <td>0.040657</td>\n",
       "      <td>1.000000</td>\n",
       "    </tr>\n",
       "  </tbody>\n",
       "</table>\n",
       "</div>"
      ],
      "text/plain": [
       "                   cc_num    amount       zip       lat      long  city_pop  \\\n",
       "cc_num           1.000000  0.001529  0.004806  0.020999 -0.005407  0.004108   \n",
       "amount           0.001529  1.000000  0.001916 -0.002634 -0.000547  0.005512   \n",
       "zip              0.004806  0.001916  1.000000 -0.099968 -0.917270  0.069685   \n",
       "lat              0.020999 -0.002634 -0.099968  1.000000 -0.051365 -0.155385   \n",
       "long            -0.005407 -0.000547 -0.917270 -0.051365  1.000000 -0.046302   \n",
       "city_pop         0.004108  0.005512  0.069685 -0.155385 -0.046302  1.000000   \n",
       "unix_time_trans  0.002588 -0.000769  0.000568  0.001051 -0.000421 -0.001687   \n",
       "merch_lat        0.020801 -0.002570 -0.099275  0.993488 -0.051097 -0.154450   \n",
       "merch_long      -0.005422 -0.000525 -0.916399 -0.051281  0.999075 -0.046266   \n",
       "age             -0.045360 -0.009272  0.019638  0.053734 -0.048561 -0.099754   \n",
       "month            0.001269 -0.001427  0.001289 -0.000469 -0.001527 -0.000019   \n",
       "day              0.000420 -0.001397 -0.001213  0.000309  0.001493  0.002368   \n",
       "\n",
       "                 unix_time_trans  merch_lat  merch_long       age     month  \\\n",
       "cc_num                  0.002588   0.020801   -0.005422 -0.045360  0.001269   \n",
       "amount                 -0.000769  -0.002570   -0.000525 -0.009272 -0.001427   \n",
       "zip                     0.000568  -0.099275   -0.916399  0.019638  0.001289   \n",
       "lat                     0.001051   0.993488   -0.051281  0.053734 -0.000469   \n",
       "long                   -0.000421  -0.051097    0.999075 -0.048561 -0.001527   \n",
       "city_pop               -0.001687  -0.154450   -0.046266 -0.099754 -0.000019   \n",
       "unix_time_trans         1.000000   0.000950   -0.000417 -0.003566  0.184976   \n",
       "merch_lat               0.000950   1.000000   -0.051019  0.053339 -0.000513   \n",
       "merch_long             -0.000417  -0.051019    1.000000 -0.048475 -0.001522   \n",
       "age                    -0.003566   0.053339   -0.048475  1.000000  0.002251   \n",
       "month                   0.184976  -0.000513   -0.001522  0.002251  1.000000   \n",
       "day                    -0.029498   0.000075    0.001467 -0.012093  0.040657   \n",
       "\n",
       "                      day  \n",
       "cc_num           0.000420  \n",
       "amount          -0.001397  \n",
       "zip             -0.001213  \n",
       "lat              0.000309  \n",
       "long             0.001493  \n",
       "city_pop         0.002368  \n",
       "unix_time_trans -0.029498  \n",
       "merch_lat        0.000075  \n",
       "merch_long       0.001467  \n",
       "age             -0.012093  \n",
       "month            0.040657  \n",
       "day              1.000000  "
      ]
     },
     "execution_count": 32,
     "metadata": {},
     "output_type": "execute_result"
    }
   ],
   "source": [
    "main_df.corr()"
   ]
  },
  {
   "cell_type": "code",
   "execution_count": 33,
   "metadata": {},
   "outputs": [
    {
     "data": {
      "text/plain": [
       "<AxesSubplot:>"
      ]
     },
     "execution_count": 33,
     "metadata": {},
     "output_type": "execute_result"
    },
    {
     "data": {
      "image/png": "[encoded data removed]",
      "text/plain": [
       "<Figure size 864x720 with 2 Axes>"
      ]
     },
     "metadata": {},
     "output_type": "display_data"
    }
   ],
   "source": [
    "# heatmap \n",
    "fig , ax = plt.subplots(figsize=(12,10))\n",
    "sns.heatmap(main_df.corr(),annot=True,ax=ax)"
   ]
  },
  {
   "cell_type": "markdown",
   "metadata": {},
   "source": [
    "## Data Preparation"
   ]
  },
  {
   "cell_type": "markdown",
   "metadata": {},
   "source": [
    "### Feature Engineering"
   ]
  },
  {
   "cell_type": "code",
   "execution_count": 34,
   "metadata": {},
   "outputs": [
    {
     "data": {
      "text/html": [
       "<div>\n",
       "<style scoped>\n",
       "    .dataframe tbody tr th:only-of-type {\n",
       "        vertical-align: middle;\n",
       "    }\n",
       "\n",
       "    .dataframe tbody tr th {\n",
       "        vertical-align: top;\n",
       "    }\n",
       "\n",
       "    .dataframe thead th {\n",
       "        text-align: right;\n",
       "    }\n",
       "</style>\n",
       "<table border=\"1\" class=\"dataframe\">\n",
       "  <thead>\n",
       "    <tr style=\"text-align: right;\">\n",
       "      <th></th>\n",
       "      <th>trans_date_trans_time</th>\n",
       "      <th>cc_num</th>\n",
       "      <th>merchant_name</th>\n",
       "      <th>merchant_category</th>\n",
       "      <th>amount</th>\n",
       "      <th>first_name</th>\n",
       "      <th>last_name</th>\n",
       "      <th>gender</th>\n",
       "      <th>street</th>\n",
       "      <th>city</th>\n",
       "      <th>...</th>\n",
       "      <th>job_title</th>\n",
       "      <th>date_of_birth</th>\n",
       "      <th>trans_num</th>\n",
       "      <th>unix_time_trans</th>\n",
       "      <th>merch_lat</th>\n",
       "      <th>merch_long</th>\n",
       "      <th>is_fraud</th>\n",
       "      <th>age</th>\n",
       "      <th>month</th>\n",
       "      <th>day</th>\n",
       "    </tr>\n",
       "  </thead>\n",
       "  <tbody>\n",
       "    <tr>\n",
       "      <th>0</th>\n",
       "      <td>2019-01-01 00:00:18</td>\n",
       "      <td>2703186189652095</td>\n",
       "      <td>fraud_Rippin, Kub and Mann</td>\n",
       "      <td>8</td>\n",
       "      <td>4.97</td>\n",
       "      <td>Jennifer</td>\n",
       "      <td>Banks</td>\n",
       "      <td>0</td>\n",
       "      <td>522</td>\n",
       "      <td>485</td>\n",
       "      <td>...</td>\n",
       "      <td>353</td>\n",
       "      <td>1988-03-09</td>\n",
       "      <td>0b242abb623afc578575680df30655b9</td>\n",
       "      <td>1325376018</td>\n",
       "      <td>36.011293</td>\n",
       "      <td>-82.048315</td>\n",
       "      <td>0</td>\n",
       "      <td>34</td>\n",
       "      <td>1</td>\n",
       "      <td>1</td>\n",
       "    </tr>\n",
       "    <tr>\n",
       "      <th>1</th>\n",
       "      <td>2019-01-01 00:00:44</td>\n",
       "      <td>630423337322</td>\n",
       "      <td>fraud_Heller, Gutmann and Zieme</td>\n",
       "      <td>4</td>\n",
       "      <td>107.23</td>\n",
       "      <td>Stephanie</td>\n",
       "      <td>Gill</td>\n",
       "      <td>0</td>\n",
       "      <td>395</td>\n",
       "      <td>564</td>\n",
       "      <td>...</td>\n",
       "      <td>408</td>\n",
       "      <td>1978-06-21</td>\n",
       "      <td>1f76529f8574734946361c461b024d99</td>\n",
       "      <td>1325376044</td>\n",
       "      <td>49.159047</td>\n",
       "      <td>-118.186462</td>\n",
       "      <td>0</td>\n",
       "      <td>44</td>\n",
       "      <td>1</td>\n",
       "      <td>1</td>\n",
       "    </tr>\n",
       "    <tr>\n",
       "      <th>2</th>\n",
       "      <td>2019-01-01 00:00:51</td>\n",
       "      <td>38859492057661</td>\n",
       "      <td>fraud_Lind-Buckridge</td>\n",
       "      <td>0</td>\n",
       "      <td>220.11</td>\n",
       "      <td>Edward</td>\n",
       "      <td>Sanchez</td>\n",
       "      <td>1</td>\n",
       "      <td>551</td>\n",
       "      <td>433</td>\n",
       "      <td>...</td>\n",
       "      <td>294</td>\n",
       "      <td>1962-01-19</td>\n",
       "      <td>a1a22d70485983eac12b5b88dad1cf95</td>\n",
       "      <td>1325376051</td>\n",
       "      <td>43.150704</td>\n",
       "      <td>-112.154481</td>\n",
       "      <td>0</td>\n",
       "      <td>60</td>\n",
       "      <td>1</td>\n",
       "      <td>1</td>\n",
       "    </tr>\n",
       "    <tr>\n",
       "      <th>3</th>\n",
       "      <td>2019-01-01 00:01:16</td>\n",
       "      <td>3534093764340240</td>\n",
       "      <td>fraud_Kutch, Hermiston and Farrell</td>\n",
       "      <td>2</td>\n",
       "      <td>45.00</td>\n",
       "      <td>Jeremy</td>\n",
       "      <td>White</td>\n",
       "      <td>1</td>\n",
       "      <td>842</td>\n",
       "      <td>77</td>\n",
       "      <td>...</td>\n",
       "      <td>314</td>\n",
       "      <td>1967-01-12</td>\n",
       "      <td>6b849c168bdad6f867558c3793159a81</td>\n",
       "      <td>1325376076</td>\n",
       "      <td>47.034331</td>\n",
       "      <td>-112.561071</td>\n",
       "      <td>0</td>\n",
       "      <td>55</td>\n",
       "      <td>1</td>\n",
       "      <td>1</td>\n",
       "    </tr>\n",
       "    <tr>\n",
       "      <th>4</th>\n",
       "      <td>2019-01-01 00:03:06</td>\n",
       "      <td>375534208663984</td>\n",
       "      <td>fraud_Keeling-Crist</td>\n",
       "      <td>9</td>\n",
       "      <td>41.96</td>\n",
       "      <td>Tyler</td>\n",
       "      <td>Garcia</td>\n",
       "      <td>1</td>\n",
       "      <td>379</td>\n",
       "      <td>197</td>\n",
       "      <td>...</td>\n",
       "      <td>110</td>\n",
       "      <td>1986-03-28</td>\n",
       "      <td>a41d7549acf90789359a9aa5346dcb46</td>\n",
       "      <td>1325376186</td>\n",
       "      <td>38.674999</td>\n",
       "      <td>-78.632459</td>\n",
       "      <td>0</td>\n",
       "      <td>36</td>\n",
       "      <td>1</td>\n",
       "      <td>1</td>\n",
       "    </tr>\n",
       "  </tbody>\n",
       "</table>\n",
       "<p>5 rows × 25 columns</p>\n",
       "</div>"
      ],
      "text/plain": [
       "  trans_date_trans_time            cc_num                       merchant_name  \\\n",
       "0   2019-01-01 00:00:18  2703186189652095          fraud_Rippin, Kub and Mann   \n",
       "1   2019-01-01 00:00:44      630423337322     fraud_Heller, Gutmann and Zieme   \n",
       "2   2019-01-01 00:00:51    38859492057661                fraud_Lind-Buckridge   \n",
       "3   2019-01-01 00:01:16  3534093764340240  fraud_Kutch, Hermiston and Farrell   \n",
       "4   2019-01-01 00:03:06   375534208663984                 fraud_Keeling-Crist   \n",
       "\n",
       "   merchant_category  amount first_name last_name  gender  street  city  ...  \\\n",
       "0                  8    4.97   Jennifer     Banks       0     522   485  ...   \n",
       "1                  4  107.23  Stephanie      Gill       0     395   564  ...   \n",
       "2                  0  220.11     Edward   Sanchez       1     551   433  ...   \n",
       "3                  2   45.00     Jeremy     White       1     842    77  ...   \n",
       "4                  9   41.96      Tyler    Garcia       1     379   197  ...   \n",
       "\n",
       "   job_title  date_of_birth                         trans_num  \\\n",
       "0        353     1988-03-09  0b242abb623afc578575680df30655b9   \n",
       "1        408     1978-06-21  1f76529f8574734946361c461b024d99   \n",
       "2        294     1962-01-19  a1a22d70485983eac12b5b88dad1cf95   \n",
       "3        314     1967-01-12  6b849c168bdad6f867558c3793159a81   \n",
       "4        110     1986-03-28  a41d7549acf90789359a9aa5346dcb46   \n",
       "\n",
       "   unix_time_trans  merch_lat  merch_long is_fraud age  month  day  \n",
       "0       1325376018  36.011293  -82.048315        0  34      1    1  \n",
       "1       1325376044  49.159047 -118.186462        0  44      1    1  \n",
       "2       1325376051  43.150704 -112.154481        0  60      1    1  \n",
       "3       1325376076  47.034331 -112.561071        0  55      1    1  \n",
       "4       1325376186  38.674999  -78.632459        0  36      1    1  \n",
       "\n",
       "[5 rows x 25 columns]"
      ]
     },
     "execution_count": 34,
     "metadata": {},
     "output_type": "execute_result"
    }
   ],
   "source": [
    "# dealing with the categorical columns and label encoding them\n",
    "def label_encoder(df,col):\n",
    "    le = LabelEncoder()\n",
    "    df[col] = le.fit_transform(df[col])\n",
    "    return df\n",
    "\n",
    "for col in main_df.select_dtypes('category'):\n",
    "    main_df = label_encoder(main_df,col)\n",
    "\n",
    "main_df.head()"
   ]
  },
  {
   "cell_type": "markdown",
   "metadata": {},
   "source": [
    "## Feature Scaling "
   ]
  },
  {
   "cell_type": "code",
   "execution_count": 35,
   "metadata": {},
   "outputs": [
    {
     "data": {
      "text/html": [
       "<div>\n",
       "<style scoped>\n",
       "    .dataframe tbody tr th:only-of-type {\n",
       "        vertical-align: middle;\n",
       "    }\n",
       "\n",
       "    .dataframe tbody tr th {\n",
       "        vertical-align: top;\n",
       "    }\n",
       "\n",
       "    .dataframe thead th {\n",
       "        text-align: right;\n",
       "    }\n",
       "</style>\n",
       "<table border=\"1\" class=\"dataframe\">\n",
       "  <thead>\n",
       "    <tr style=\"text-align: right;\">\n",
       "      <th></th>\n",
       "      <th>trans_date_trans_time</th>\n",
       "      <th>cc_num</th>\n",
       "      <th>merchant_name</th>\n",
       "      <th>merchant_category</th>\n",
       "      <th>amount</th>\n",
       "      <th>first_name</th>\n",
       "      <th>last_name</th>\n",
       "      <th>gender</th>\n",
       "      <th>street</th>\n",
       "      <th>city</th>\n",
       "      <th>...</th>\n",
       "      <th>job_title</th>\n",
       "      <th>date_of_birth</th>\n",
       "      <th>trans_num</th>\n",
       "      <th>unix_time_trans</th>\n",
       "      <th>merch_lat</th>\n",
       "      <th>merch_long</th>\n",
       "      <th>is_fraud</th>\n",
       "      <th>age</th>\n",
       "      <th>month</th>\n",
       "      <th>day</th>\n",
       "    </tr>\n",
       "  </thead>\n",
       "  <tbody>\n",
       "    <tr>\n",
       "      <th>0</th>\n",
       "      <td>2019-01-01 00:00:18</td>\n",
       "      <td>2703186189652095</td>\n",
       "      <td>fraud_Rippin, Kub and Mann</td>\n",
       "      <td>8</td>\n",
       "      <td>-0.404568</td>\n",
       "      <td>Jennifer</td>\n",
       "      <td>Banks</td>\n",
       "      <td>0</td>\n",
       "      <td>522</td>\n",
       "      <td>485</td>\n",
       "      <td>...</td>\n",
       "      <td>353</td>\n",
       "      <td>1988-03-09</td>\n",
       "      <td>0b242abb623afc578575680df30655b9</td>\n",
       "      <td>1325376018</td>\n",
       "      <td>-0.517184</td>\n",
       "      <td>0.591607</td>\n",
       "      <td>0</td>\n",
       "      <td>34</td>\n",
       "      <td>1</td>\n",
       "      <td>1</td>\n",
       "    </tr>\n",
       "    <tr>\n",
       "      <th>1</th>\n",
       "      <td>2019-01-01 00:00:44</td>\n",
       "      <td>630423337322</td>\n",
       "      <td>fraud_Heller, Gutmann and Zieme</td>\n",
       "      <td>4</td>\n",
       "      <td>0.229144</td>\n",
       "      <td>Stephanie</td>\n",
       "      <td>Gill</td>\n",
       "      <td>0</td>\n",
       "      <td>395</td>\n",
       "      <td>564</td>\n",
       "      <td>...</td>\n",
       "      <td>408</td>\n",
       "      <td>1978-06-21</td>\n",
       "      <td>1f76529f8574734946361c461b024d99</td>\n",
       "      <td>1325376044</td>\n",
       "      <td>2.076801</td>\n",
       "      <td>-2.097623</td>\n",
       "      <td>0</td>\n",
       "      <td>44</td>\n",
       "      <td>1</td>\n",
       "      <td>1</td>\n",
       "    </tr>\n",
       "    <tr>\n",
       "      <th>2</th>\n",
       "      <td>2019-01-01 00:00:51</td>\n",
       "      <td>38859492057661</td>\n",
       "      <td>fraud_Lind-Buckridge</td>\n",
       "      <td>0</td>\n",
       "      <td>0.928670</td>\n",
       "      <td>Edward</td>\n",
       "      <td>Sanchez</td>\n",
       "      <td>1</td>\n",
       "      <td>551</td>\n",
       "      <td>433</td>\n",
       "      <td>...</td>\n",
       "      <td>294</td>\n",
       "      <td>1962-01-19</td>\n",
       "      <td>a1a22d70485983eac12b5b88dad1cf95</td>\n",
       "      <td>1325376051</td>\n",
       "      <td>0.891385</td>\n",
       "      <td>-1.648751</td>\n",
       "      <td>0</td>\n",
       "      <td>60</td>\n",
       "      <td>1</td>\n",
       "      <td>1</td>\n",
       "    </tr>\n",
       "    <tr>\n",
       "      <th>3</th>\n",
       "      <td>2019-01-01 00:01:16</td>\n",
       "      <td>3534093764340240</td>\n",
       "      <td>fraud_Kutch, Hermiston and Farrell</td>\n",
       "      <td>2</td>\n",
       "      <td>-0.156500</td>\n",
       "      <td>Jeremy</td>\n",
       "      <td>White</td>\n",
       "      <td>1</td>\n",
       "      <td>842</td>\n",
       "      <td>77</td>\n",
       "      <td>...</td>\n",
       "      <td>314</td>\n",
       "      <td>1967-01-12</td>\n",
       "      <td>6b849c168bdad6f867558c3793159a81</td>\n",
       "      <td>1325376076</td>\n",
       "      <td>1.657605</td>\n",
       "      <td>-1.679008</td>\n",
       "      <td>0</td>\n",
       "      <td>55</td>\n",
       "      <td>1</td>\n",
       "      <td>1</td>\n",
       "    </tr>\n",
       "    <tr>\n",
       "      <th>4</th>\n",
       "      <td>2019-01-01 00:03:06</td>\n",
       "      <td>375534208663984</td>\n",
       "      <td>fraud_Keeling-Crist</td>\n",
       "      <td>9</td>\n",
       "      <td>-0.175339</td>\n",
       "      <td>Tyler</td>\n",
       "      <td>Garcia</td>\n",
       "      <td>1</td>\n",
       "      <td>379</td>\n",
       "      <td>197</td>\n",
       "      <td>...</td>\n",
       "      <td>110</td>\n",
       "      <td>1986-03-28</td>\n",
       "      <td>a41d7549acf90789359a9aa5346dcb46</td>\n",
       "      <td>1325376186</td>\n",
       "      <td>0.008351</td>\n",
       "      <td>0.845799</td>\n",
       "      <td>0</td>\n",
       "      <td>36</td>\n",
       "      <td>1</td>\n",
       "      <td>1</td>\n",
       "    </tr>\n",
       "  </tbody>\n",
       "</table>\n",
       "<p>5 rows × 25 columns</p>\n",
       "</div>"
      ],
      "text/plain": [
       "  trans_date_trans_time            cc_num                       merchant_name  \\\n",
       "0   2019-01-01 00:00:18  2703186189652095          fraud_Rippin, Kub and Mann   \n",
       "1   2019-01-01 00:00:44      630423337322     fraud_Heller, Gutmann and Zieme   \n",
       "2   2019-01-01 00:00:51    38859492057661                fraud_Lind-Buckridge   \n",
       "3   2019-01-01 00:01:16  3534093764340240  fraud_Kutch, Hermiston and Farrell   \n",
       "4   2019-01-01 00:03:06   375534208663984                 fraud_Keeling-Crist   \n",
       "\n",
       "   merchant_category    amount first_name last_name  gender  street  city  \\\n",
       "0                  8 -0.404568   Jennifer     Banks       0     522   485   \n",
       "1                  4  0.229144  Stephanie      Gill       0     395   564   \n",
       "2                  0  0.928670     Edward   Sanchez       1     551   433   \n",
       "3                  2 -0.156500     Jeremy     White       1     842    77   \n",
       "4                  9 -0.175339      Tyler    Garcia       1     379   197   \n",
       "\n",
       "   ...  job_title  date_of_birth                         trans_num  \\\n",
       "0  ...        353     1988-03-09  0b242abb623afc578575680df30655b9   \n",
       "1  ...        408     1978-06-21  1f76529f8574734946361c461b024d99   \n",
       "2  ...        294     1962-01-19  a1a22d70485983eac12b5b88dad1cf95   \n",
       "3  ...        314     1967-01-12  6b849c168bdad6f867558c3793159a81   \n",
       "4  ...        110     1986-03-28  a41d7549acf90789359a9aa5346dcb46   \n",
       "\n",
       "   unix_time_trans  merch_lat  merch_long is_fraud age  month  day  \n",
       "0       1325376018  -0.517184    0.591607        0  34      1    1  \n",
       "1       1325376044   2.076801   -2.097623        0  44      1    1  \n",
       "2       1325376051   0.891385   -1.648751        0  60      1    1  \n",
       "3       1325376076   1.657605   -1.679008        0  55      1    1  \n",
       "4       1325376186   0.008351    0.845799        0  36      1    1  \n",
       "\n",
       "[5 rows x 25 columns]"
      ]
     },
     "execution_count": 35,
     "metadata": {},
     "output_type": "execute_result"
    }
   ],
   "source": [
    "# standardizing the numerical columns\n",
    "def standardize(df,col):\n",
    "    scaler = StandardScaler()\n",
    "    df[col] = scaler.fit_transform(df[[col]])\n",
    "    return df\n",
    "\n",
    "for col in main_df.select_dtypes('float64','int64'):\n",
    "    main_df = standardize(main_df,col)\n",
    "\n",
    "main_df.head()"
   ]
  },
  {
   "cell_type": "markdown",
   "metadata": {},
   "source": [
    "## Feature Selection"
   ]
  },
  {
   "cell_type": "code",
   "execution_count": 36,
   "metadata": {},
   "outputs": [
    {
     "data": {
      "text/plain": [
       "trans_date_trans_time    datetime64[ns]\n",
       "cc_num                            int64\n",
       "merchant_name                    object\n",
       "merchant_category                 int64\n",
       "amount                          float64\n",
       "first_name                       object\n",
       "last_name                        object\n",
       "gender                            int64\n",
       "street                            int64\n",
       "city                              int64\n",
       "state                             int64\n",
       "zip                               int64\n",
       "lat                             float64\n",
       "long                            float64\n",
       "city_pop                          int64\n",
       "job_title                         int64\n",
       "date_of_birth            datetime64[ns]\n",
       "trans_num                        object\n",
       "unix_time_trans                   int64\n",
       "merch_lat                       float64\n",
       "merch_long                      float64\n",
       "is_fraud                          int64\n",
       "age                               int64\n",
       "month                             int64\n",
       "day                               int64\n",
       "dtype: object"
      ]
     },
     "execution_count": 36,
     "metadata": {},
     "output_type": "execute_result"
    }
   ],
   "source": [
    "main_df.dtypes"
   ]
  },
  {
   "cell_type": "code",
   "execution_count": 37,
   "metadata": {},
   "outputs": [],
   "source": [
    "# dropping the columns that are not needed\n",
    "\n",
    "main_df.drop(['trans_date_trans_time','merchant_name','first_name','last_name','date_of_birth','trans_num'],axis=1,inplace=True)"
   ]
  },
  {
   "cell_type": "code",
   "execution_count": 38,
   "metadata": {},
   "outputs": [
    {
     "data": {
      "text/plain": [
       "Index(['cc_num', 'merchant_category', 'amount', 'gender', 'street', 'city',\n",
       "       'state', 'zip', 'lat', 'long', 'city_pop', 'job_title',\n",
       "       'unix_time_trans', 'merch_lat', 'merch_long', 'is_fraud', 'age',\n",
       "       'month', 'day'],\n",
       "      dtype='object')"
      ]
     },
     "execution_count": 38,
     "metadata": {},
     "output_type": "execute_result"
    }
   ],
   "source": [
    "main_df.columns"
   ]
  },
  {
   "cell_type": "code",
   "execution_count": 39,
   "metadata": {},
   "outputs": [
    {
     "data": {
      "text/plain": [
       "(1177886, 19)"
      ]
     },
     "execution_count": 39,
     "metadata": {},
     "output_type": "execute_result"
    }
   ],
   "source": [
    "main_df.shape"
   ]
  },
  {
   "cell_type": "code",
   "execution_count": 40,
   "metadata": {},
   "outputs": [
    {
     "name": "stdout",
     "output_type": "stream",
     "text": [
      "[0.02195936 0.16888629 0.38893091 0.01052865 0.02256011 0.02179741\n",
      " 0.01418198 0.01871538 0.01984498 0.0189043  0.0336543  0.02206862\n",
      " 0.06374195 0.04475696 0.04564268 0.03392769 0.02648842 0.02340999]\n"
     ]
    },
    {
     "data": {
      "image/png": "[encoded data removed]",
      "text/plain": [
       "<Figure size 432x288 with 1 Axes>"
      ]
     },
     "metadata": {},
     "output_type": "display_data"
    }
   ],
   "source": [
    "# feature selection\n",
    "X = main_df.drop('is_fraud',axis=1)\n",
    "y = main_df['is_fraud']\n",
    "\n",
    "# feature importance\n",
    "model = RandomForestClassifier()\n",
    "model.fit(X,y)\n",
    "print(model.feature_importances_)\n",
    "feat_importances = pd.Series(model.feature_importances_, index=X.columns)\n",
    "feat_importances.nlargest(10).plot(kind='barh')\n",
    "plt.show()\n"
   ]
  },
  {
   "cell_type": "code",
   "execution_count": 41,
   "metadata": {},
   "outputs": [
    {
     "data": {
      "text/plain": [
       "Index(['cc_num', 'merchant_category', 'amount', 'gender', 'street', 'city',\n",
       "       'state', 'zip', 'lat', 'long', 'city_pop', 'job_title',\n",
       "       'unix_time_trans', 'merch_lat', 'merch_long', 'is_fraud', 'age',\n",
       "       'month', 'day'],\n",
       "      dtype='object')"
      ]
     },
     "execution_count": 41,
     "metadata": {},
     "output_type": "execute_result"
    }
   ],
   "source": [
    "main_df.columns"
   ]
  },
  {
   "cell_type": "code",
   "execution_count": 42,
   "metadata": {},
   "outputs": [],
   "source": [
    "# dropping columns not selected \n",
    "main_df.drop(['cc_num','zip','lat','long'],axis=1,inplace=True)"
   ]
  },
  {
   "cell_type": "code",
   "execution_count": 43,
   "metadata": {},
   "outputs": [
    {
     "data": {
      "text/plain": [
       "(1177886, 15)"
      ]
     },
     "execution_count": 43,
     "metadata": {},
     "output_type": "execute_result"
    }
   ],
   "source": [
    "main_df.shape"
   ]
  },
  {
   "cell_type": "markdown",
   "metadata": {},
   "source": [
    "### Dealing with class imbalance"
   ]
  },
  {
   "cell_type": "code",
   "execution_count": 44,
   "metadata": {},
   "outputs": [],
   "source": [
    "# splitting the data into train and test\n",
    "\n",
    "from sklearn.model_selection import train_test_split\n",
    "\n",
    "X_train , X_test, y_train, y_test = train_test_split(X,y,test_size=0.2,random_state=42)"
   ]
  },
  {
   "cell_type": "code",
   "execution_count": 45,
   "metadata": {},
   "outputs": [],
   "source": [
    "# dealing with class imbalance\n",
    "from imblearn.over_sampling import SMOTE\n",
    "\n",
    "sm = SMOTE(random_state=42)\n",
    "X_train_resampled, y_train_resampled = sm.fit_resample(X_train, y_train)\n"
   ]
  },
  {
   "cell_type": "markdown",
   "metadata": {},
   "source": [
    "## Map Reduce with mrjob"
   ]
  },
  {
   "cell_type": "code",
   "execution_count": 9,
   "metadata": {},
   "outputs": [],
   "source": [
    "from mrjob.job import MRJob\n",
    "from mrjob.step import MRStep\n",
    "from mrjob.protocol import JSONValueProtocol, RawValueProtocol\n",
    "\n",
    "import numpy as np\n",
    "import pandas as pd\n",
    "from sklearn.linear_model import LogisticRegression\n",
    "from sklearn.tree import DecisionTreeClassifier\n",
    "from sklearn.ensemble import RandomForestClassifier\n",
    "from xgboost import XGBClassifier\n",
    "from sklearn.metrics import accuracy_score, precision_score, recall_score, f1_score, roc_auc_score, confusion_matrix\n",
    "from sklearn.model_selection import train_test_split\n",
    "from sklearn.preprocessing import StandardScaler\n",
    "from sklearn.pipeline import Pipeline\n",
    "from sklearn.model_selection import GridSearchCV\n",
    "from sklearn.metrics import classification_report\n",
    "from sklearn.metrics import roc_curve, auc\n",
    "from sklearn.metrics import plot_confusion_matrix\n",
    "from sklearn.metrics import plot_roc_curve\n"
   ]
  },
  {
   "cell_type": "markdown",
   "metadata": {},
   "source": [
    "### 1. Logistic Regression"
   ]
  },
  {
   "cell_type": "code",
   "execution_count": 57,
   "metadata": {},
   "outputs": [],
   "source": [
    "# Logistic Regression model training\n",
    "\n",
    "log_reg = LogisticRegression()\n",
    "log_reg.fit(X_train_resampled,y_train_resampled)\n",
    "y_pred = log_reg.predict(X_test)"
   ]
  },
  {
   "cell_type": "code",
   "execution_count": 58,
   "metadata": {},
   "outputs": [
    {
     "name": "stdout",
     "output_type": "stream",
     "text": [
      "Logistic Regression\n",
      "Accuracy:  0.005649933355406702\n",
      "Precision:  0.005649933355406702\n",
      "Recall:  1.0\n",
      "F1 Score:  0.011236381901911703\n",
      "ROC AUC Score:  0.5\n",
      "Confusion Matrix:  <sklearn.metrics._plot.confusion_matrix.ConfusionMatrixDisplay object at 0x7f9592a372b0>\n",
      "ROC Curve:  <sklearn.metrics._plot.roc_curve.RocCurveDisplay object at 0x7f959331bb80>\n"
     ]
    },
    {
     "data": {
      "image/png": "[encoded data removed]",
      "text/plain": [
       "<Figure size 432x288 with 2 Axes>"
      ]
     },
     "metadata": {},
     "output_type": "display_data"
    },
    {
     "data": {
      "image/png": "[encoded data removed]",
      "text/plain": [
       "<Figure size 432x288 with 1 Axes>"
      ]
     },
     "metadata": {},
     "output_type": "display_data"
    }
   ],
   "source": [
    "# Evaluation\n",
    "print('Logistic Regression')\n",
    "print('Accuracy: ',accuracy_score(y_test,y_pred))\n",
    "print('Precision: ',precision_score(y_test,y_pred))\n",
    "print('Recall: ',recall_score(y_test,y_pred))\n",
    "print('F1 Score: ',f1_score(y_test,y_pred))\n",
    "print('ROC AUC Score: ',roc_auc_score(y_test,y_pred))\n",
    "print('Confusion Matrix: ',plot_confusion_matrix(log_reg,X_test,y_test))\n",
    "print('ROC Curve: ',plot_roc_curve(log_reg,X_test,y_test))"
   ]
  },
  {
   "cell_type": "markdown",
   "metadata": {},
   "source": [
    "The logistic regression model performed poorly with ROC AUC score of 0.5 which is the same as a random guess"
   ]
  },
  {
   "cell_type": "markdown",
   "metadata": {},
   "source": [
    "### 2. Decision Tree"
   ]
  },
  {
   "cell_type": "code",
   "execution_count": 59,
   "metadata": {},
   "outputs": [],
   "source": [
    "# Decision Tree\n",
    "\n",
    "dt = DecisionTreeClassifier()\n",
    "dt.fit(X_train_resampled,y_train_resampled)\n",
    "y_pred = dt.predict(X_test)\n"
   ]
  },
  {
   "cell_type": "code",
   "execution_count": 62,
   "metadata": {},
   "outputs": [
    {
     "name": "stdout",
     "output_type": "stream",
     "text": [
      "Decision Tree\n",
      "Accuracy:  0.9816069412254116\n",
      "Precision:  0.20672137553731926\n",
      "Recall:  0.7948910593538693\n",
      "F1 Score:  0.32811288571871605\n",
      "ROC AUC Score:  0.8887794635160019\n",
      "Confusion Matrix:  <sklearn.metrics._plot.confusion_matrix.ConfusionMatrixDisplay object at 0x7f959256ef70>\n",
      "ROC Curve:  <sklearn.metrics._plot.roc_curve.RocCurveDisplay object at 0x7f9598593310>\n"
     ]
    },
    {
     "data": {
      "image/png": "[encoded data removed]",
      "text/plain": [
       "<Figure size 432x288 with 2 Axes>"
      ]
     },
     "metadata": {},
     "output_type": "display_data"
    },
    {
     "data": {
      "image/png": "[encoded data removed]",
      "text/plain": [
       "<Figure size 432x288 with 1 Axes>"
      ]
     },
     "metadata": {},
     "output_type": "display_data"
    }
   ],
   "source": [
    "# Evaluation\n",
    "print('Decision Tree')\n",
    "print('Accuracy: ',accuracy_score(y_test,y_pred))\n",
    "print('Precision: ',precision_score(y_test,y_pred))\n",
    "print('Recall: ',recall_score(y_test,y_pred))\n",
    "print('F1 Score: ',f1_score(y_test,y_pred))\n",
    "print('ROC AUC Score: ',roc_auc_score(y_test,y_pred))\n",
    "print('Confusion Matrix: ',plot_confusion_matrix(dt,X_test,y_test))\n",
    "print('ROC Curve: ',plot_roc_curve(dt,X_test,y_test))"
   ]
  },
  {
   "cell_type": "markdown",
   "metadata": {},
   "source": [
    "The decision tree model performed better with an improved ROC AUC score of 0.89 however it is still not a good enough as precision is too low"
   ]
  },
  {
   "cell_type": "markdown",
   "metadata": {},
   "source": [
    "### 3. Random Forest"
   ]
  },
  {
   "cell_type": "code",
   "execution_count": 63,
   "metadata": {},
   "outputs": [],
   "source": [
    "# random forest\n",
    "\n",
    "rf = RandomForestClassifier()\n",
    "rf.fit(X_train_resampled,y_train_resampled)\n",
    "y_pred = rf.predict(X_test)\n"
   ]
  },
  {
   "cell_type": "code",
   "execution_count": 64,
   "metadata": {},
   "outputs": [
    {
     "name": "stdout",
     "output_type": "stream",
     "text": [
      "Random Forest\n",
      "Accuracy:  0.9965658932497942\n",
      "Precision:  0.6673076923076923\n",
      "Recall:  0.7821187077385424\n",
      "F1 Score:  0.7201660325147007\n",
      "ROC AUC Score:  0.8899515488600288\n",
      "Confusion Matrix:\n",
      "  <sklearn.metrics._plot.confusion_matrix.ConfusionMatrixDisplay object at 0x7f955a54b580>\n",
      "ROC Curve:  <sklearn.metrics._plot.roc_curve.RocCurveDisplay object at 0x7f955b35dbb0>\n"
     ]
    },
    {
     "data": {
      "image/png": "[encoded data removed]",
      "text/plain": [
       "<Figure size 432x288 with 2 Axes>"
      ]
     },
     "metadata": {},
     "output_type": "display_data"
    },
    {
     "data": {
      "image/png": "[encoded data removed]",
      "text/plain": [
       "<Figure size 432x288 with 1 Axes>"
      ]
     },
     "metadata": {},
     "output_type": "display_data"
    }
   ],
   "source": [
    "# Evaluation\n",
    "print('Random Forest')\n",
    "print('Accuracy: ',accuracy_score(y_test,y_pred))\n",
    "print('Precision: ',precision_score(y_test,y_pred))\n",
    "print('Recall: ',recall_score(y_test,y_pred))\n",
    "print('F1 Score: ',f1_score(y_test,y_pred))\n",
    "print('ROC AUC Score: ',roc_auc_score(y_test,y_pred))\n",
    "print('Confusion Matrix:\\n ',plot_confusion_matrix(rf,X_test,y_test))\n",
    "print('ROC Curve: ',plot_roc_curve(rf,X_test,y_test))"
   ]
  },
  {
   "cell_type": "markdown",
   "metadata": {},
   "source": [
    "The Random forest model performed better with an improved ROC AUC score of 0.99 with acceptable precision and recall"
   ]
  },
  {
   "cell_type": "markdown",
   "metadata": {},
   "source": [
    "### 4. XGBoost"
   ]
  },
  {
   "cell_type": "code",
   "execution_count": 65,
   "metadata": {},
   "outputs": [],
   "source": [
    "# XGBoost\n",
    "\n",
    "xgb = XGBClassifier()\n",
    "xgb.fit(X_train_resampled,y_train_resampled)\n",
    "y_pred = xgb.predict(X_test)\n"
   ]
  },
  {
   "cell_type": "code",
   "execution_count": 66,
   "metadata": {},
   "outputs": [
    {
     "name": "stdout",
     "output_type": "stream",
     "text": [
      "XGBoost\n",
      "Accuracy:  0.9871125487099814\n",
      "Precision:  0.2943305186972256\n",
      "Recall:  0.9166040570999249\n",
      "F1 Score:  0.44558071585098624\n",
      "ROC AUC Score:  0.9520586188157929\n",
      "Confusion Matrix:  <sklearn.metrics._plot.confusion_matrix.ConfusionMatrixDisplay object at 0x7f95909360a0>\n",
      "ROC Curve:  <sklearn.metrics._plot.roc_curve.RocCurveDisplay object at 0x7f959258dc10>\n"
     ]
    },
    {
     "data": {
      "image/png": "[encoded data removed]",
      "text/plain": [
       "<Figure size 432x288 with 2 Axes>"
      ]
     },
     "metadata": {},
     "output_type": "display_data"
    },
    {
     "data": {
      "image/png": "[encoded data removed]",
      "text/plain": [
       "<Figure size 432x288 with 1 Axes>"
      ]
     },
     "metadata": {},
     "output_type": "display_data"
    }
   ],
   "source": [
    "# Evaluation\n",
    "print('XGBoost')\n",
    "print('Accuracy: ',accuracy_score(y_test,y_pred))\n",
    "print('Precision: ',precision_score(y_test,y_pred))\n",
    "print('Recall: ',recall_score(y_test,y_pred))\n",
    "print('F1 Score: ',f1_score(y_test,y_pred))\n",
    "print('ROC AUC Score: ',roc_auc_score(y_test,y_pred))\n",
    "print('Confusion Matrix: ',plot_confusion_matrix(xgb,X_test,y_test))\n",
    "print('ROC Curve: ',plot_roc_curve(xgb,X_test,y_test))"
   ]
  },
  {
   "cell_type": "markdown",
   "metadata": {},
   "source": [
    "The XGBoost model performed better with an improved ROC AUC score of 0.95 however it is still not a good enough as precision is too low"
   ]
  },
  {
   "cell_type": "markdown",
   "metadata": {},
   "source": [
    "## Modelling with Map Reduce"
   ]
  },
  {
   "cell_type": "code",
   "execution_count": null,
   "metadata": {},
   "outputs": [],
   "source": [
    "from mrjob.job import MRJob\n",
    "from mrjob.step import MRStep\n",
    "from mrjob.protocol import JSONValueProtocol, RawValueProtocol"
   ]
  },
  {
   "cell_type": "markdown",
   "metadata": {},
   "source": [
    "<p> mrjob is the easiest route to writing Python programs that run on Hadoop. If you use mrjob, you’ll be able to test your\n",
    "code locally without installing Hadoop or run it on a cluster of your choice.\n",
    "Additionally, mrjob has extensive integration with Amazon Elastic MapReduce. Once you’re set up, it’s as easy to run\n",
    "your job in the cloud as it is to run it on your laptop. </p>"
   ]
  },
  {
   "cell_type": "code",
   "execution_count": null,
   "metadata": {},
   "outputs": [],
   "source": [
    "class FraudDetection(MRJob):\n",
    "    OUTPUT_PROTOCOL = JSONValueProtocol\n",
    "\n",
    "    def steps(self):\n",
    "        return [\n",
    "            MRStep(mapper=self.mapper,\n",
    "                   reducer=self.reducer),\n",
    "            MRStep(reducer=self.reducer_final)\n",
    "        ]\n",
    "    \n",
    "    def mapper(self, _, line):\n",
    "        yield 'data', line.split(',')\n",
    "        \n",
    "    def reducer(self, key, values):\n",
    "        df = pd.DataFrame(values)\n",
    "        df.columns = df.iloc[0]\n",
    "        df = df.iloc[1:]\n",
    "        df = df.astype({'is_fraud': 'int64'})\n",
    "        df\n",
    "        X = df.drop('is_fraud',axis=1)\n",
    "        y = df['is_fraud']\n",
    "        X_train , X_test, y_train, y_test = train_test_split(X,y,test_size=0.2,random_state=42)\n",
    "        sm = SMOTE(random_state=42)\n",
    "        X_train_resampled, y_train_resampled = sm.fit_resample(X_train, y_train)\n",
    "        # Logistic Regression\n",
    "        lr = LogisticRegression()\n",
    "        lr.fit(X_train_resampled, y_train_resampled)\n",
    "        y_pred_lr = lr.predict(X_test)\n",
    "        # Decision Tree\n",
    "        dt = DecisionTreeClassifier()\n",
    "        dt.fit(X_train_resampled, y_train_resampled)\n",
    "        y_pred_dt = dt.predict(X_test)\n",
    "        # Random Forest\n",
    "        rf = RandomForestClassifier()\n",
    "        rf.fit(X_train_resampled, y_train_resampled)\n",
    "        y_pred_rf = rf.predict(X_test)\n",
    "        # XGBoost\n",
    "        xgb = XGBClassifier()\n",
    "        xgb.fit(X_train_resampled, y_train_resampled)\n",
    "        y_pred_xgb = xgb.predict(X_test)\n",
    "        # Accuracy\n",
    "        accuracy_lr = accuracy_score(y_test, y_pred_lr)\n",
    "        accuracy_dt = accuracy_score(y_test, y_pred_dt)\n",
    "        accuracy_rf = accuracy_score(y_test, y_pred_rf)\n",
    "        accuracy_xgb = accuracy_score(y_test, y_pred_xgb)\n",
    "        # Precision\n",
    "        precision_lr = precision_score(y_test, y_pred_lr)\n",
    "        precision_dt = precision_score(y_test, y_pred_dt)\n",
    "        precision_rf = precision_score(y_test, y_pred_rf)\n",
    "        precision_xgb = precision_score(y_test, y_pred_xgb)\n",
    "        # Recall\n",
    "        recall_lr = recall_score(y_test, y_pred_lr)\n",
    "        recall_dt = recall_score(y_test, y_pred_dt)\n",
    "        recall_rf = recall_score(y_test, y_pred_rf)\n",
    "        recall_xgb = recall_score(y_test, y_pred_xgb)\n",
    "        # F1 Score\n",
    "        f1_lr = f1_score(y_test, y_pred_lr)\n",
    "        f1_dt = f1_score(y_test, y_pred_dt)\n",
    "        f1_rf = f1_score(y_test, y_pred_rf)\n",
    "        f1_xgb = f1_score(y_test, y_pred_xgb)\n",
    "        # ROC AUC Score\n",
    "        roc_auc_lr = roc_auc_score(y_test, y_pred_lr)\n",
    "        roc_auc_dt = roc_auc_score(y_test, y_pred_dt)\n",
    "        roc_auc_rf = roc_auc_score(y_test, y_pred_rf)\n",
    "        roc_auc_xgb = roc_auc_score(y_test, y_pred_xgb)\n",
    "        # Confusion Matrix\n",
    "        cm_lr = confusion_matrix(y_test, y_pred_lr)\n",
    "        cm_dt = confusion_matrix(y_test, y_pred_dt)\n",
    "        cm_rf = confusion_matrix(y_test, y_pred_rf)\n",
    "        cm_xgb = confusion_matrix(y_test, y_pred_xgb)\n",
    "        # Results\n",
    "        results = {\n",
    "            'Logistic Regression': {\n",
    "                'Accuracy': accuracy_lr,\n",
    "                'Precision': precision_lr,\n",
    "                'Recall': recall_lr,\n",
    "                'F1 Score': f1_lr,\n",
    "                'ROC AUC Score': roc_auc_lr,\n",
    "                'Confusion Matrix': cm_lr.tolist()\n",
    "            },\n",
    "            'Decision Tree': {\n",
    "                'Accuracy': accuracy_dt,\n",
    "                'Precision': precision_dt,\n",
    "                'Recall': recall_dt,\n",
    "                'F1 Score': f1_dt,\n",
    "                'ROC AUC Score': roc_auc_dt,\n",
    "                'Confusion Matrix': cm_dt.tolist()\n",
    "            },\n",
    "            'Random Forest': {\n",
    "                'Accuracy': accuracy_rf,\n",
    "                'Precision': precision_rf,\n",
    "                'Recall': recall_rf,\n",
    "                'F1 Score': f1_rf,\n",
    "                'ROC AUC Score': roc_auc_rf,\n",
    "                'Confusion Matrix': cm_rf.tolist()\n",
    "            },\n",
    "            'XGBoost': {\n",
    "                'Accuracy': accuracy_xgb,\n",
    "                'Precision': precision_xgb,\n",
    "                'Recall': recall_xgb,\n",
    "                'F1 Score': f1_xgb,\n",
    "                'ROC AUC Score': roc_auc_xgb,\n",
    "                'Confusion Matrix': cm_xgb.tolist()\n",
    "            }\n",
    "        }\n",
    "        yield 'results', results\n",
    "\n",
    "    def reducer_final(self, key, values):\n",
    "        yield key, list(values)\n",
    "        \n",
    "\n",
    "if __name__ == '__main__':\n",
    "    FraudDetection.run()\n"
   ]
  },
  {
   "cell_type": "code",
   "execution_count": null,
   "metadata": {},
   "outputs": [],
   "source": [
    "# running the job locally\n",
    "! python fraud_detection.py main_df.csv > fraud_detection.json"
   ]
  },
  {
   "cell_type": "code",
   "execution_count": null,
   "metadata": {},
   "outputs": [],
   "source": [
    "# running the job on hadoop\n",
    "! python fraud_detection.py -r hadoop hdfs:///user/username/main_df.csv > fraud_detection.json"
   ]
  },
  {
   "cell_type": "code",
   "execution_count": null,
   "metadata": {},
   "outputs": [],
   "source": [
    "# running the job on EMR\n",
    "! python fraud_detection.py -r emr s3://bucket-name/main_df.csv > fraud_detection.json"
   ]
  },
  {
   "cell_type": "code",
   "execution_count": null,
   "metadata": {},
   "outputs": [],
   "source": [
    "# reading the results\n",
    "with open('fraud_detection.json') as f:\n",
    "    results = json.load(f)"
   ]
  },
  {
   "cell_type": "code",
   "execution_count": null,
   "metadata": {},
   "outputs": [],
   "source": [
    "# printing the results\n",
    "for key, value in results.items():\n",
    "    print(key, value)"
   ]
  }
 ],
 "metadata": {
  "kernelspec": {
   "display_name": "Python 3.9.7 ('data')",
   "language": "python",
   "name": "python3"
  },
  "language_info": {
   "codemirror_mode": {
    "name": "ipython",
    "version": 3
   },
   "file_extension": ".py",
   "mimetype": "text/x-python",
   "name": "python",
   "nbconvert_exporter": "python",
   "pygments_lexer": "ipython3",
   "version": "3.9.7"
  },
  "orig_nbformat": 4,
  "vscode": {
   "interpreter": {
    "hash": "4b5221f7fd568601ffb692ded55cc6a8f9f720c6422993e13b3964f3c2d5ea0a"
   }
  }
 },
 "nbformat": 4,
 "nbformat_minor": 2
}
